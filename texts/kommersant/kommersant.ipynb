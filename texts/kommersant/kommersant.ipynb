{
 "cells": [
  {
   "cell_type": "code",
   "execution_count": 3,
   "id": "df203b8c-3730-4d2b-82c1-25687dd18ef5",
   "metadata": {},
   "outputs": [],
   "source": [
    "from bs4 import BeautifulSoup\n",
    "import json\n",
    "import os\n",
    "import sqlite3\n",
    "import nltk\n",
    "import pandas as pd\n",
    "import numpy as np\n",
    "import re"
   ]
  },
  {
   "cell_type": "code",
   "execution_count": 4,
   "id": "62cf334e-bac2-4226-96ec-5f4f88abdd47",
   "metadata": {},
   "outputs": [],
   "source": [
    "conn = sqlite3.connect(\"../../diplom.db\")"
   ]
  },
  {
   "cell_type": "code",
   "execution_count": 7,
   "id": "179abb88-db30-45af-a6a4-e5ac8cfc916b",
   "metadata": {},
   "outputs": [],
   "source": [
    "kom = pd.read_sql(\"\"\"SELECT ID, TRANSCRIPT FROM TRANSCRIPTS WHERE SOURCE = 4\"\"\", conn)"
   ]
  },
  {
   "cell_type": "code",
   "execution_count": 11,
   "id": "45f54f21-63d2-4b22-8543-9efe0a32cbdd",
   "metadata": {},
   "outputs": [],
   "source": [
    "import re\n",
    "from nltk.corpus import stopwords\n",
    "from pymystem3 import Mystem\n",
    "\n",
    "pattern = re.compile(\"[^a-zA-Z0-9а-яА-ЯёЁ-]+\")\n",
    "stopwords_rus = stopwords.words('russian')\n",
    "stemmer = Mystem()\n",
    "\n",
    "\n",
    "def text_cleaner(text):\n",
    "    clean_text = ' '.join(list(filter(None, [i.strip() for i in re.sub(pattern, ' ', text).lower().split(' ') if\n",
    "                                             i not in stopwords_rus])))\n",
    "    out = ' '.join([i for i in stemmer.lemmatize(clean_text) if i not in (' ', '\\n')])\n",
    "    return out\n"
   ]
  },
  {
   "cell_type": "code",
   "execution_count": null,
   "id": "002a46fb-88f0-4bb9-ab1a-3711082de0fc",
   "metadata": {},
   "outputs": [],
   "source": [
    "kom[\"CLEAN_TEXT\"] = kom.TRANSCRIPT.apply(text_cleaner)"
   ]
  },
  {
   "cell_type": "code",
   "execution_count": null,
   "id": "20e560ca-b6f7-435b-b649-e339db861bdb",
   "metadata": {},
   "outputs": [],
   "source": [
    "kom[\"DEMOCRACY_COUNT\"] = kom[\"CLEAN_TEXT\"].apply(lambda text: text.count(\"демократия\"))"
   ]
  },
  {
   "cell_type": "code",
   "execution_count": null,
   "id": "2811d343-4f73-4f3b-aa12-ed4e6f271129",
   "metadata": {},
   "outputs": [],
   "source": [
    "kom.to_sql(\"KOMMERSANT\", conn, index=False)"
   ]
  }
 ],
 "metadata": {
  "kernelspec": {
   "display_name": "Python 3 (ipykernel)",
   "language": "python",
   "name": "python3"
  },
  "language_info": {
   "codemirror_mode": {
    "name": "ipython",
    "version": 3
   },
   "file_extension": ".py",
   "mimetype": "text/x-python",
   "name": "python",
   "nbconvert_exporter": "python",
   "pygments_lexer": "ipython3",
   "version": "3.12.2"
  }
 },
 "nbformat": 4,
 "nbformat_minor": 5
}
