{
 "cells": [
  {
   "cell_type": "code",
   "execution_count": 1,
   "id": "fa6652eb-3086-4b2d-a84b-df610d520491",
   "metadata": {},
   "outputs": [
    {
     "name": "stdout",
     "output_type": "stream",
     "text": [
      "589337 2007-01-22 00:00:00 44\n",
      "877374 2007-01-22 00:00:00 44\n",
      "413881 2007-05-07 00:00:00 30\n",
      "1165895 2014-02-24 00:00:00 30\n",
      "815825 2004-11-01 00:00:00 25\n",
      "1408016 2020-08-31 00:00:00 25\n",
      "1410376 2006-07-27 00:00:00 24\n",
      "425494 2006-05-07 00:00:00 22\n",
      "1082811 2006-01-31 00:00:00 21\n",
      "751839 2010-09-11 00:00:00 19\n",
      "1020295 2020-07-13 00:00:00 19\n",
      "1138510 2018-08-19 10:00:00 19\n",
      "1207539 2006-11-29 00:00:00 19\n",
      "401275 2012-06-09 16:51:20 18\n",
      "1043356 2016-10-31 00:00:00 18\n",
      "1277408 2015-06-03 13:49:26 18\n",
      "1621534 2008-06-02 00:00:00 17\n",
      "779644 2006-04-11 00:00:00 16\n",
      "1073041 2010-05-11 00:00:00 16\n",
      "1400797 2006-11-01 00:00:00 16\n",
      "1471872 2014-09-29 00:20:00 16\n",
      "404196 2013-01-26 12:05:23 15\n",
      "919408 2014-06-02 00:00:00 15\n",
      "1497082 2013-10-28 00:00:00 15\n",
      "1644548 2010-09-10 14:30:35 15\n"
     ]
    }
   ],
   "source": [
    "import os\n",
    "import sqlite3\n",
    "import pandas as pd\n",
    "import numpy as np\n",
    "import datetime\n",
    "from pymystem3 import Mystem\n",
    "import re\n",
    "from nltk.corpus import stopwords\n",
    "\n",
    "conn = sqlite3.connect(r\"../../diplom.db\")\n",
    "cur = conn.cursor()\n",
    "\n",
    "res = cur.execute(\"\"\"SELECT ID, DDATE, TRANSCRIPT, DEMOCRACY_COUNT FROM KOMMERSANT ORDER BY DEMOCRACY_COUNT DESC LIMIT 25;\"\"\")\n",
    "for i, date, text, count in res:\n",
    "    print(i, date, count)\n",
    "    with open(f'{i}.txt', 'w', encoding='utf-8') as f:\n",
    "        f.write(text)\n",
    "cur.close()\n",
    "conn.close()"
   ]
  }
 ],
 "metadata": {
  "kernelspec": {
   "display_name": "Python 3 (ipykernel)",
   "language": "python",
   "name": "python3"
  },
  "language_info": {
   "codemirror_mode": {
    "name": "ipython",
    "version": 3
   },
   "file_extension": ".py",
   "mimetype": "text/x-python",
   "name": "python",
   "nbconvert_exporter": "python",
   "pygments_lexer": "ipython3",
   "version": "3.12.2"
  }
 },
 "nbformat": 4,
 "nbformat_minor": 5
}
