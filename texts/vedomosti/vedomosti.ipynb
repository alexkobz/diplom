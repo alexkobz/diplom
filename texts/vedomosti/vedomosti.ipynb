{
 "cells": [
  {
   "cell_type": "code",
   "execution_count": 1,
   "id": "b2d135a7-1b03-4cdf-a854-e025abdf56f4",
   "metadata": {},
   "outputs": [
    {
     "name": "stdout",
     "output_type": "stream",
     "text": [
      "1762802 2010-11-11 21:29:32 33\n",
      "1767261 2012-08-27 20:47:50 28\n",
      "1757963 2019-05-23 21:51:14 22\n",
      "1726347 2012-06-07 22:38:03 19\n",
      "1746880 2012-02-12 20:25:18 19\n",
      "1754643 2017-03-30 21:27:52 19\n",
      "1760950 2010-10-07 20:32:22 19\n",
      "1745336 2017-11-29 21:03:33 17\n",
      "1748894 2015-05-17 19:02:24 17\n",
      "1749442 2017-11-29 21:03:33 17\n",
      "1721783 2016-01-13 20:11:39 16\n",
      "1763287 2016-09-01 19:45:58 16\n",
      "1724553 2016-08-16 21:01:16 14\n",
      "1727067 2019-11-14 23:19:27 13\n",
      "1733605 2015-04-14 19:23:03 13\n",
      "1736519 2019-11-14 23:19:27 13\n",
      "1756194 2010-02-01 21:16:54 13\n",
      "1747457 2017-01-11 22:35:17 12\n",
      "1719438 2015-08-11 20:45:17 11\n",
      "1725062 2008-07-14 20:00:00 11\n",
      "1735413 2010-10-19 12:09:47 11\n",
      "1738853 2011-08-18 21:59:04 11\n",
      "1745957 2010-09-10 13:41:58 11\n",
      "1735207 2021-07-01 22:17:19 10\n",
      "1743300 2021-07-01 22:17:19 10\n"
     ]
    }
   ],
   "source": [
    "import os\n",
    "import sqlite3\n",
    "import pandas as pd\n",
    "import numpy as np\n",
    "import datetime\n",
    "from pymystem3 import Mystem\n",
    "import re\n",
    "from nltk.corpus import stopwords\n",
    "\n",
    "conn = sqlite3.connect(r\"../../diplom.db\")\n",
    "cur = conn.cursor()\n",
    "\n",
    "res = cur.execute(\"\"\"SELECT ID, DDATE, TRANSCRIPT, DEMOCRACY_COUNT FROM VEDOMOSTI ORDER BY DEMOCRACY_COUNT DESC LIMIT 25;\"\"\")\n",
    "for i, date, text, count in res:\n",
    "    print(i, date, count)\n",
    "    with open(f'{i}.txt', 'w', encoding='utf-8') as f:\n",
    "        f.write(text)"
   ]
  }
 ],
 "metadata": {
  "kernelspec": {
   "display_name": "Python 3 (ipykernel)",
   "language": "python",
   "name": "python3"
  },
  "language_info": {
   "codemirror_mode": {
    "name": "ipython",
    "version": 3
   },
   "file_extension": ".py",
   "mimetype": "text/x-python",
   "name": "python",
   "nbconvert_exporter": "python",
   "pygments_lexer": "ipython3",
   "version": "3.12.2"
  }
 },
 "nbformat": 4,
 "nbformat_minor": 5
}
