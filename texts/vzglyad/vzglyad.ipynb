{
 "cells": [
  {
   "cell_type": "code",
   "execution_count": 1,
   "id": "f68fa55d-0746-43db-92d9-28b2d78c640b",
   "metadata": {},
   "outputs": [
    {
     "name": "stdout",
     "output_type": "stream",
     "text": [
      "1863884 2015-06-04 17:00:11 34\n",
      "1862441 2011-03-21 14:00:57 29\n",
      "1852733 2019-06-01 12:00:13 23\n",
      "1865174 2016-06-27 17:00:05 17\n",
      "1857443 2012-01-11 12:00:01 16\n",
      "1865996 2017-06-20 18:00:45 16\n",
      "1854998 2021-07-15 09:00:30 15\n",
      "1859244 2013-01-22 13:00:30 15\n",
      "1862072 2014-06-30 10:00:27 15\n",
      "1862508 2011-03-22 11:00:36 15\n",
      "1865396 2016-08-26 19:00:10 15\n",
      "1854689 2021-03-29 20:00:40 14\n",
      "1854701 2021-03-29 20:00:40 14\n",
      "1853563 2020-02-06 18:00:00 13\n",
      "1854969 2021-06-08 18:00:05 12\n",
      "1860550 2013-08-19 15:00:25 12\n",
      "1861354 2014-12-08 15:00:41 12\n",
      "1862034 2014-06-23 15:00:03 12\n",
      "1866373 2018-11-13 19:00:05 12\n",
      "1854951 2021-06-29 12:00:04 11\n",
      "1855094 2021-08-17 12:00:10 11\n",
      "1858135 2012-02-06 12:00:30 11\n",
      "1852812 2019-06-07 18:00:36 10\n",
      "1852927 2019-08-12 12:00:00 10\n",
      "1854149 2020-09-22 12:00:32 10\n"
     ]
    }
   ],
   "source": [
    "import os\n",
    "import sqlite3\n",
    "import pandas as pd\n",
    "import numpy as np\n",
    "import datetime\n",
    "from pymystem3 import Mystem\n",
    "import re\n",
    "from nltk.corpus import stopwords\n",
    "\n",
    "conn = sqlite3.connect(r\"../../diplom.db\")\n",
    "cur = conn.cursor()\n",
    "\n",
    "res = cur.execute(\"\"\"SELECT ID, DDATE, TRANSCRIPT, DEMOCRACY_COUNT FROM VZGLYAD ORDER BY DEMOCRACY_COUNT DESC LIMIT 25;\"\"\")\n",
    "for i, date, text, count in res:\n",
    "    print(i, date, count)\n",
    "    with open(f'{i}.txt', 'w', encoding='utf-8') as f:\n",
    "        f.write(text)"
   ]
  },
  {
   "cell_type": "code",
   "execution_count": 2,
   "id": "99b14052-04fe-466a-a8ff-e03808f360a8",
   "metadata": {},
   "outputs": [],
   "source": [
    "conn.close()"
   ]
  }
 ],
 "metadata": {
  "kernelspec": {
   "display_name": "Python 3 (ipykernel)",
   "language": "python",
   "name": "python3"
  },
  "language_info": {
   "codemirror_mode": {
    "name": "ipython",
    "version": 3
   },
   "file_extension": ".py",
   "mimetype": "text/x-python",
   "name": "python",
   "nbconvert_exporter": "python",
   "pygments_lexer": "ipython3",
   "version": "3.12.2"
  }
 },
 "nbformat": 4,
 "nbformat_minor": 5
}
