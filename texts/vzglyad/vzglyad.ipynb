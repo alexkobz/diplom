{
 "cells": [
  {
   "cell_type": "code",
   "execution_count": null,
   "id": "f68fa55d-0746-43db-92d9-28b2d78c640b",
   "metadata": {},
   "outputs": [],
   "source": [
    "import os\n",
    "import sqlite3\n",
    "import pandas as pd\n",
    "import numpy as np\n",
    "import datetime\n",
    "from pymystem3 import Mystem\n",
    "import re\n",
    "from nltk.corpus import stopwords\n",
    "\n",
    "conn = sqlite3.connect(r\"../../diplom.db\")\n",
    "cur = conn.cursor()\n",
    "\n",
    "res = cur.execute(\"\"\"SELECT ID, DDATE, TRANSCRIPT, DEMOCRACY_COUNT FROM VZGLYAD ORDER BY DEMOCRACY_COUNT DESC LIMIT 25;\"\"\")\n",
    "for i, date, text, count in res:\n",
    "    print(i, date, count)\n",
    "    with open(f'{i}.txt', 'w', encoding='utf-8') as f:\n",
    "        f.write(text)"
   ]
  }
 ],
 "metadata": {
  "kernelspec": {
   "display_name": "Python 3 (ipykernel)",
   "language": "python",
   "name": "python3"
  },
  "language_info": {
   "codemirror_mode": {
    "name": "ipython",
    "version": 3
   },
   "file_extension": ".py",
   "mimetype": "text/x-python",
   "name": "python",
   "nbconvert_exporter": "python",
   "pygments_lexer": "ipython3",
   "version": "3.12.2"
  }
 },
 "nbformat": 4,
 "nbformat_minor": 5
}
