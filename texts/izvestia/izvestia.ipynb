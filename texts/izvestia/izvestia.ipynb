{
 "cells": [
  {
   "cell_type": "code",
   "execution_count": 14,
   "id": "90aa8004-b25c-4d82-a7ce-b576371b5bf3",
   "metadata": {},
   "outputs": [],
   "source": [
    "from bs4 import BeautifulSoup\n",
    "import json\n",
    "import os\n",
    "import sqlite3\n",
    "import nltk\n",
    "import pandas as pd\n",
    "import numpy as np\n",
    "import re\n",
    "# from gensim.corpora.dictionary import Dictionary\n",
    "# from gensim.models.phrases import Phrases\n",
    "# from gensim.models import Word2Vec"
   ]
  },
  {
   "cell_type": "code",
   "execution_count": 16,
   "id": "48e4aba3-5a57-464b-be12-21368352f720",
   "metadata": {},
   "outputs": [],
   "source": [
    "conn = sqlite3.connect(\"../../diplom.db\")\n",
    "cur = conn.cursor()"
   ]
  },
  {
   "cell_type": "code",
   "execution_count": 18,
   "id": "38901ebc-d70f-41b8-8420-1782beaa8e40",
   "metadata": {},
   "outputs": [],
   "source": [
    "res = cur.execute(\"\"\"SELECT * FROM IZVESTIA_CLEANTEXTS0021 ORDER BY DEMOCRACY_COUNT DESC LIMIT 100;\"\"\")"
   ]
  },
  {
   "cell_type": "code",
   "execution_count": 19,
   "id": "ca6f1c83-6026-4d04-94d3-5ae816a07420",
   "metadata": {},
   "outputs": [
    {
     "name": "stdout",
     "output_type": "stream",
     "text": [
      "2021-03-31 12\n",
      "2021-07-19 11\n",
      "2020-10-04 10\n",
      "2005-02-24 8\n",
      "2020-07-07 8\n",
      "2019-01-26 7\n",
      "2017-10-05 7\n",
      "2021-04-12 6\n",
      "2021-01-20 6\n",
      "2018-04-18 5\n",
      "2019-01-30 5\n",
      "2017-06-08 5\n",
      "2021-03-15 5\n",
      "2019-01-31 5\n",
      "2020-06-06 5\n",
      "2018-07-17 4\n",
      "2021-03-25 4\n",
      "2021-08-24 4\n",
      "2021-05-25 4\n",
      "2020-09-03 4\n",
      "2021-01-11 4\n",
      "2021-02-01 4\n",
      "2018-02-20 4\n",
      "2020-06-16 4\n",
      "2019-08-14 4\n",
      "2021-01-08 4\n",
      "2021-02-01 4\n",
      "2018-08-13 4\n",
      "2019-12-02 4\n",
      "2019-03-13 4\n",
      "2021-01-06 4\n",
      "2018-04-14 4\n",
      "2017-09-25 4\n",
      "2021-07-22 3\n",
      "2020-02-25 3\n",
      "2019-06-03 3\n",
      "2018-12-10 3\n",
      "2020-05-03 3\n",
      "2020-09-16 3\n",
      "2020-04-05 3\n",
      "2021-03-24 3\n",
      "2020-03-22 3\n",
      "2018-08-20 3\n",
      "2019-03-23 3\n",
      "2019-03-07 3\n",
      "2020-01-23 3\n",
      "2020-11-10 3\n",
      "2017-09-03 3\n",
      "2019-01-27 3\n",
      "2017-09-29 3\n",
      "2020-10-18 3\n",
      "2020-03-28 3\n",
      "2018-06-28 3\n",
      "2020-08-19 3\n",
      "2021-02-19 3\n",
      "2017-12-12 3\n",
      "2020-02-13 3\n",
      "2018-07-14 3\n",
      "2017-09-13 3\n",
      "2018-09-08 3\n",
      "2018-04-01 3\n",
      "2019-06-21 3\n",
      "2021-08-17 3\n",
      "2018-05-12 3\n",
      "2021-01-07 3\n",
      "2017-09-26 3\n",
      "2019-07-27 3\n",
      "2020-09-30 3\n",
      "2021-02-10 3\n",
      "2020-12-01 3\n",
      "2021-02-02 3\n",
      "2019-01-24 2\n",
      "2020-09-10 2\n",
      "2021-01-19 2\n",
      "2021-07-15 2\n",
      "2017-11-16 2\n",
      "2021-09-09 2\n",
      "2019-02-01 2\n",
      "2017-09-04 2\n",
      "2020-08-20 2\n",
      "2018-12-29 2\n",
      "2020-12-15 2\n",
      "2020-11-19 2\n",
      "2020-09-05 2\n",
      "2019-09-23 2\n",
      "2020-05-28 2\n",
      "2018-09-30 2\n",
      "2018-03-02 2\n",
      "2018-02-20 2\n",
      "2018-08-16 2\n",
      "2020-11-17 2\n",
      "2020-11-09 2\n",
      "2019-04-10 2\n",
      "2021-02-02 2\n",
      "2017-08-21 2\n",
      "2004-06-15 2\n",
      "2018-01-12 2\n",
      "2017-12-26 2\n",
      "2017-08-24 2\n",
      "2020-09-03 2\n"
     ]
    }
   ],
   "source": [
    "for row in res:\n",
    "    print(row[2], row[6])"
   ]
  },
  {
   "cell_type": "code",
   "execution_count": 13,
   "id": "c017d91b-c204-4675-bc0b-b4b85302d00d",
   "metadata": {},
   "outputs": [
    {
     "name": "stdout",
     "output_type": "stream",
     "text": [
      "^C\n"
     ]
    }
   ],
   "source": [
    "!pip uninstall gensim"
   ]
  },
  {
   "cell_type": "code",
   "execution_count": null,
   "id": "36d4069f-1071-444d-8265-6fc34f693a86",
   "metadata": {},
   "outputs": [],
   "source": [
    "!pip install gensim"
   ]
  },
  {
   "cell_type": "code",
   "execution_count": null,
   "id": "0cebdcc3-de09-4522-afdd-31b863fec048",
   "metadata": {},
   "outputs": [],
   "source": [
    "phrases = Phrases(corpus_izvestia, min_count=1, threshold=1)"
   ]
  },
  {
   "cell_type": "code",
   "execution_count": 8,
   "id": "02f58a15",
   "metadata": {},
   "outputs": [
    {
     "data": {
      "text/plain": [
       "array([-3.5766926 , -3.0316958 ,  0.9686452 , -1.3188351 ,  2.546759  ,\n",
       "       -0.6474348 ,  0.09102358, -0.45753068, -0.70596963,  1.4003515 ,\n",
       "        0.46409538,  2.400015  , -0.3453278 , -1.0255783 , -1.0174031 ,\n",
       "       -0.76842135,  1.3332396 ,  0.08861988,  0.92493194, -2.474383  ,\n",
       "       -1.0612268 ,  2.1174538 ,  1.8337611 , -0.6436659 , -0.47902954,\n",
       "        0.71494097,  0.46093917,  1.6548154 ,  1.2463144 , -0.66734   ,\n",
       "       -2.7372336 ,  2.6495342 ], dtype=float32)"
      ]
     },
     "execution_count": 8,
     "metadata": {},
     "output_type": "execute_result"
    }
   ],
   "source": [
    "model.get_vector('демократия')"
   ]
  },
  {
   "cell_type": "code",
   "execution_count": 9,
   "id": "664547df",
   "metadata": {},
   "outputs": [
    {
     "data": {
      "text/plain": [
       "[('ценность', 0.8455156087875366),\n",
       " ('справедливость', 0.8448948860168457),\n",
       " ('народ', 0.794706404209137),\n",
       " ('принцип', 0.783704400062561),\n",
       " ('общество', 0.7612237930297852),\n",
       " ('либеральный', 0.7468475699424744),\n",
       " ('свобода', 0.7453266978263855),\n",
       " ('меньшинство', 0.7419408559799194),\n",
       " ('движение', 0.7358075380325317),\n",
       " ('нация', 0.7312542796134949)]"
      ]
     },
     "execution_count": 9,
     "metadata": {},
     "output_type": "execute_result"
    }
   ],
   "source": [
    "model.most_similar('демократия')"
   ]
  },
  {
   "cell_type": "code",
   "execution_count": 26,
   "id": "73d00ce8",
   "metadata": {},
   "outputs": [],
   "source": [
    "model = Word2Vec(corpus_izvestia, \n",
    "                 vector_size=64,      # embedding vector size\n",
    "                 min_count=5,  # consider words that occured at least 5 times\n",
    "                 window=2).wv"
   ]
  },
  {
   "cell_type": "code",
   "execution_count": 27,
   "id": "91501c7e",
   "metadata": {},
   "outputs": [
    {
     "data": {
      "text/plain": [
       "[('ценность', 0.8228520154953003),\n",
       " ('принцип', 0.7854652404785156),\n",
       " ('справедливость', 0.7762071490287781),\n",
       " ('либеральный', 0.7531120181083679),\n",
       " ('меньшинство', 0.7300997972488403),\n",
       " ('общество', 0.7276099324226379),\n",
       " ('единство', 0.7206049561500549),\n",
       " ('цивилизация', 0.7091200351715088),\n",
       " ('свобода', 0.7019317150115967),\n",
       " ('движение', 0.6981418132781982)]"
      ]
     },
     "execution_count": 27,
     "metadata": {},
     "output_type": "execute_result"
    }
   ],
   "source": [
    "model.most_similar('демократия')"
   ]
  },
  {
   "cell_type": "code",
   "execution_count": 42,
   "id": "7a3d9cf6",
   "metadata": {},
   "outputs": [],
   "source": [
    "model = Word2Vec(corpus_izvestia, \n",
    "                 vector_size=1024,      # embedding vector size\n",
    "                 min_count=1,  # consider words that occured at least 5 times\n",
    "                 window=3).wv"
   ]
  },
  {
   "cell_type": "code",
   "execution_count": 43,
   "id": "b5d38b96",
   "metadata": {},
   "outputs": [
    {
     "data": {
      "text/plain": [
       "[('ценность', 0.8878699541091919),\n",
       " ('общество', 0.8470258116722107),\n",
       " ('принцип', 0.8460907340049744),\n",
       " ('справедливость', 0.845017671585083),\n",
       " ('народ', 0.823380708694458),\n",
       " ('стандарт', 0.8123600482940674),\n",
       " ('движение', 0.8115740418434143),\n",
       " ('либеральный', 0.7893827557563782),\n",
       " ('меньшинство', 0.783093273639679),\n",
       " ('свобода', 0.7830301523208618)]"
      ]
     },
     "execution_count": 43,
     "metadata": {},
     "output_type": "execute_result"
    }
   ],
   "source": [
    "model.most_similar('демократия')"
   ]
  },
  {
   "cell_type": "code",
   "execution_count": 40,
   "id": "74d686de",
   "metadata": {},
   "outputs": [],
   "source": []
  }
 ],
 "metadata": {
  "kernelspec": {
   "display_name": "Python 3 (ipykernel)",
   "language": "python",
   "name": "python3"
  },
  "language_info": {
   "codemirror_mode": {
    "name": "ipython",
    "version": 3
   },
   "file_extension": ".py",
   "mimetype": "text/x-python",
   "name": "python",
   "nbconvert_exporter": "python",
   "pygments_lexer": "ipython3",
   "version": "3.12.2"
  }
 },
 "nbformat": 4,
 "nbformat_minor": 5
}
