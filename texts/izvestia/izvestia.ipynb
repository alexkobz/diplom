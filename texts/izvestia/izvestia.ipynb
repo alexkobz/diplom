{
 "cells": [
  {
   "cell_type": "code",
   "execution_count": 4,
   "id": "90aa8004-b25c-4d82-a7ce-b576371b5bf3",
   "metadata": {},
   "outputs": [],
   "source": [
    "from bs4 import BeautifulSoup\n",
    "import json\n",
    "import os\n",
    "import sqlite3\n",
    "import pandas as pd\n",
    "from "
   ]
  },
  {
   "cell_type": "code",
   "execution_count": 46,
   "id": "d55c62ce-4b39-4b76-a616-abd96ff97993",
   "metadata": {},
   "outputs": [
    {
     "ename": "ModuleNotFoundError",
     "evalue": "No module named 'texts'",
     "output_type": "error",
     "traceback": [
      "\u001b[1;31m---------------------------------------------------------------------------\u001b[0m",
      "\u001b[1;31mModuleNotFoundError\u001b[0m                       Traceback (most recent call last)",
      "Cell \u001b[1;32mIn[46], line 1\u001b[0m\n\u001b[1;32m----> 1\u001b[0m \u001b[38;5;28;01mfrom\u001b[39;00m \u001b[38;5;21;01mtexts\u001b[39;00m \u001b[38;5;28;01mimport\u001b[39;00m text_cleaner\n",
      "\u001b[1;31mModuleNotFoundError\u001b[0m: No module named 'texts'"
     ]
    }
   ],
   "source": [
    "from texts import text_cleaner"
   ]
  },
  {
   "cell_type": "code",
   "execution_count": 11,
   "id": "e4f34ebf-9ff5-4de8-96e7-a27102b745c9",
   "metadata": {},
   "outputs": [],
   "source": [
    "conn = sqlite3.connect('../../diplom.db')\n",
    "# cur = conn.cursor()"
   ]
  },
  {
   "cell_type": "code",
   "execution_count": 34,
   "id": "3cebba3b-b089-424a-adee-e29b62b94e60",
   "metadata": {},
   "outputs": [],
   "source": [
    "izvestia = pd.read_sql(\"SELECT * FROM IZVESTIA_NEW;\"\"\", conn)"
   ]
  },
  {
   "cell_type": "code",
   "execution_count": 42,
   "id": "f3720935-6e9e-4f30-958c-84fa4483caf0",
   "metadata": {},
   "outputs": [],
   "source": [
    "izvestia[\"DDATE\"] = pd.to_datetime(izvestia[\"DDATE\"]).dt.tz_localize(None) "
   ]
  },
  {
   "cell_type": "code",
   "execution_count": 44,
   "id": "ff120776-c995-4170-97ff-f910dce90d17",
   "metadata": {},
   "outputs": [],
   "source": [
    "izvestia0021 = izvestia[(izvestia.DDATE>=\"2000-01-01\")&(izvestia.DDATE<=\"2021-09-17\")]"
   ]
  },
  {
   "cell_type": "code",
   "execution_count": 45,
   "id": "71483241-5c78-4451-bb88-28b18039cdb9",
   "metadata": {},
   "outputs": [
    {
     "data": {
      "text/html": [
       "<div>\n",
       "<style scoped>\n",
       "    .dataframe tbody tr th:only-of-type {\n",
       "        vertical-align: middle;\n",
       "    }\n",
       "\n",
       "    .dataframe tbody tr th {\n",
       "        vertical-align: top;\n",
       "    }\n",
       "\n",
       "    .dataframe thead th {\n",
       "        text-align: right;\n",
       "    }\n",
       "</style>\n",
       "<table border=\"1\" class=\"dataframe\">\n",
       "  <thead>\n",
       "    <tr style=\"text-align: right;\">\n",
       "      <th></th>\n",
       "      <th>ID</th>\n",
       "      <th>AUTHOR</th>\n",
       "      <th>DDATE</th>\n",
       "      <th>URL</th>\n",
       "      <th>HEADER</th>\n",
       "      <th>SECTION</th>\n",
       "      <th>FILENAME</th>\n",
       "      <th>TRANSCRIPT</th>\n",
       "    </tr>\n",
       "  </thead>\n",
       "  <tbody>\n",
       "    <tr>\n",
       "      <th>2</th>\n",
       "      <td>3</td>\n",
       "      <td></td>\n",
       "      <td>2018-07-02 13:11:04</td>\n",
       "      <td>https://iz.ru/762225/photo/gudrun5</td>\n",
       "      <td>gudrun5</td>\n",
       "      <td>Мир, Фото</td>\n",
       "      <td>10000.html</td>\n",
       "      <td>Поделиться:\\n</td>\n",
       "    </tr>\n",
       "    <tr>\n",
       "      <th>3</th>\n",
       "      <td>4</td>\n",
       "      <td>Алексей Забродин</td>\n",
       "      <td>2018-02-21 18:50:00</td>\n",
       "      <td>https://iz.ru/711745/aleksei-zabrodin/alpiiska...</td>\n",
       "      <td>Альпийская разновекторность</td>\n",
       "      <td>Мир, Статья</td>\n",
       "      <td>100000.html</td>\n",
       "      <td>Министр иностранных дел России Сергей Лавров п...</td>\n",
       "    </tr>\n",
       "    <tr>\n",
       "      <th>5</th>\n",
       "      <td>6</td>\n",
       "      <td>Ирина Рудевич, Алексей Рудевич</td>\n",
       "      <td>2018-10-29 08:00:00</td>\n",
       "      <td>https://iz.ru/805131/irina-rudevich-aleksei-ru...</td>\n",
       "      <td>Персональные данные. Валюта XXI века</td>\n",
       "      <td>Финансы, Статья</td>\n",
       "      <td>100003.html</td>\n",
       "      <td>Персональные данные человека — это ценность. С...</td>\n",
       "    </tr>\n",
       "    <tr>\n",
       "      <th>6</th>\n",
       "      <td>7</td>\n",
       "      <td></td>\n",
       "      <td>2020-04-01 13:48:41</td>\n",
       "      <td>https://iz.ru/994423/video/situatciia-s-appara...</td>\n",
       "      <td>Ситуация с аппаратами ИВЛ в стране стабильна</td>\n",
       "      <td>Общество, Видео</td>\n",
       "      <td>100004.html</td>\n",
       "      <td>Выделить главное\\n\\n\\n\\t\\t\\tвкл\\n\\t\\t\\n\\n\\n\\t\\...</td>\n",
       "    </tr>\n",
       "    <tr>\n",
       "      <th>7</th>\n",
       "      <td>8</td>\n",
       "      <td>Евгений Девятьяров</td>\n",
       "      <td>2017-08-10 21:01:00</td>\n",
       "      <td>https://iz.ru/630974/evgenii-deviatiarov/polet...</td>\n",
       "      <td>Над Крымским мостом запретили летать ниже кило...</td>\n",
       "      <td>Общество, Статья</td>\n",
       "      <td>100005.html</td>\n",
       "      <td>Министерство транспорта России официально подт...</td>\n",
       "    </tr>\n",
       "    <tr>\n",
       "      <th>...</th>\n",
       "      <td>...</td>\n",
       "      <td>...</td>\n",
       "      <td>...</td>\n",
       "      <td>...</td>\n",
       "      <td>...</td>\n",
       "      <td>...</td>\n",
       "      <td>...</td>\n",
       "      <td>...</td>\n",
       "    </tr>\n",
       "    <tr>\n",
       "      <th>268541</th>\n",
       "      <td>268542</td>\n",
       "      <td></td>\n",
       "      <td>2018-05-24 18:56:09</td>\n",
       "      <td>https://iz.ru/747610/photo/kino1</td>\n",
       "      <td>kino1</td>\n",
       "      <td>Культура, Фото</td>\n",
       "      <td>99992.html</td>\n",
       "      <td>Поделиться:\\n</td>\n",
       "    </tr>\n",
       "    <tr>\n",
       "      <th>268543</th>\n",
       "      <td>268544</td>\n",
       "      <td></td>\n",
       "      <td>2021-04-01 19:27:25</td>\n",
       "      <td>https://iz.ru/1145603/photo/tceny-prosiatsia-v...</td>\n",
       "      <td>Цены просятся в полет1</td>\n",
       "      <td>Экономика, Фото</td>\n",
       "      <td>99994.html</td>\n",
       "      <td>Поделиться:\\n</td>\n",
       "    </tr>\n",
       "    <tr>\n",
       "      <th>268544</th>\n",
       "      <td>268545</td>\n",
       "      <td>Михаил Кудин, Алексей Фомин</td>\n",
       "      <td>2020-11-25 19:15:14</td>\n",
       "      <td>https://iz.ru/1092205/mikhail-kudin-aleksei-fo...</td>\n",
       "      <td>Игрок в полях Господних: не стало Диего Марадоны</td>\n",
       "      <td>Мир, Статья</td>\n",
       "      <td>99996.html</td>\n",
       "      <td>Сегодня, 25 ноября, футбольный мир потерял сво...</td>\n",
       "    </tr>\n",
       "    <tr>\n",
       "      <th>268546</th>\n",
       "      <td>268547</td>\n",
       "      <td></td>\n",
       "      <td>2018-11-29 10:01:05</td>\n",
       "      <td>https://iz.ru/818008/photo/11ethnographictouri...</td>\n",
       "      <td>11_ethnographic_tourism_TASS_1242014</td>\n",
       "      <td>Туризм, Фото</td>\n",
       "      <td>99998.html</td>\n",
       "      <td>Поделиться:\\n</td>\n",
       "    </tr>\n",
       "    <tr>\n",
       "      <th>268547</th>\n",
       "      <td>268548</td>\n",
       "      <td></td>\n",
       "      <td>2020-10-01 10:03:38</td>\n",
       "      <td>https://iz.ru/1067945/photo/dostoinyi-partner-...</td>\n",
       "      <td>«Достойный партнер»: Грузию поторопили с членс...</td>\n",
       "      <td>Мир, Фото</td>\n",
       "      <td>99999.html</td>\n",
       "      <td>Поделиться:\\n</td>\n",
       "    </tr>\n",
       "  </tbody>\n",
       "</table>\n",
       "<p>155560 rows × 8 columns</p>\n",
       "</div>"
      ],
      "text/plain": [
       "            ID                          AUTHOR               DDATE  \\\n",
       "2            3                                 2018-07-02 13:11:04   \n",
       "3            4                Алексей Забродин 2018-02-21 18:50:00   \n",
       "5            6  Ирина Рудевич, Алексей Рудевич 2018-10-29 08:00:00   \n",
       "6            7                                 2020-04-01 13:48:41   \n",
       "7            8              Евгений Девятьяров 2017-08-10 21:01:00   \n",
       "...        ...                             ...                 ...   \n",
       "268541  268542                                 2018-05-24 18:56:09   \n",
       "268543  268544                                 2021-04-01 19:27:25   \n",
       "268544  268545     Михаил Кудин, Алексей Фомин 2020-11-25 19:15:14   \n",
       "268546  268547                                 2018-11-29 10:01:05   \n",
       "268547  268548                                 2020-10-01 10:03:38   \n",
       "\n",
       "                                                      URL  \\\n",
       "2                      https://iz.ru/762225/photo/gudrun5   \n",
       "3       https://iz.ru/711745/aleksei-zabrodin/alpiiska...   \n",
       "5       https://iz.ru/805131/irina-rudevich-aleksei-ru...   \n",
       "6       https://iz.ru/994423/video/situatciia-s-appara...   \n",
       "7       https://iz.ru/630974/evgenii-deviatiarov/polet...   \n",
       "...                                                   ...   \n",
       "268541                   https://iz.ru/747610/photo/kino1   \n",
       "268543  https://iz.ru/1145603/photo/tceny-prosiatsia-v...   \n",
       "268544  https://iz.ru/1092205/mikhail-kudin-aleksei-fo...   \n",
       "268546  https://iz.ru/818008/photo/11ethnographictouri...   \n",
       "268547  https://iz.ru/1067945/photo/dostoinyi-partner-...   \n",
       "\n",
       "                                                   HEADER           SECTION  \\\n",
       "2                                                 gudrun5         Мир, Фото   \n",
       "3                             Альпийская разновекторность       Мир, Статья   \n",
       "5                    Персональные данные. Валюта XXI века   Финансы, Статья   \n",
       "6            Ситуация с аппаратами ИВЛ в стране стабильна   Общество, Видео   \n",
       "7       Над Крымским мостом запретили летать ниже кило...  Общество, Статья   \n",
       "...                                                   ...               ...   \n",
       "268541                                              kino1    Культура, Фото   \n",
       "268543                             Цены просятся в полет1   Экономика, Фото   \n",
       "268544   Игрок в полях Господних: не стало Диего Марадоны       Мир, Статья   \n",
       "268546               11_ethnographic_tourism_TASS_1242014      Туризм, Фото   \n",
       "268547  «Достойный партнер»: Грузию поторопили с членс...         Мир, Фото   \n",
       "\n",
       "           FILENAME                                         TRANSCRIPT  \n",
       "2        10000.html                                      Поделиться:\\n  \n",
       "3       100000.html  Министр иностранных дел России Сергей Лавров п...  \n",
       "5       100003.html  Персональные данные человека — это ценность. С...  \n",
       "6       100004.html  Выделить главное\\n\\n\\n\\t\\t\\tвкл\\n\\t\\t\\n\\n\\n\\t\\...  \n",
       "7       100005.html  Министерство транспорта России официально подт...  \n",
       "...             ...                                                ...  \n",
       "268541   99992.html                                      Поделиться:\\n  \n",
       "268543   99994.html                                      Поделиться:\\n  \n",
       "268544   99996.html  Сегодня, 25 ноября, футбольный мир потерял сво...  \n",
       "268546   99998.html                                      Поделиться:\\n  \n",
       "268547   99999.html                                      Поделиться:\\n  \n",
       "\n",
       "[155560 rows x 8 columns]"
      ]
     },
     "execution_count": 45,
     "metadata": {},
     "output_type": "execute_result"
    }
   ],
   "source": [
    "izvestia0021[\"CLEAN_TEXT\"] = izvestia0021[\"TRANSCRIPT\"].apply()"
   ]
  },
  {
   "cell_type": "code",
   "execution_count": 29,
   "id": "345c4437-7bf6-4b7d-a9aa-6e259f1270c8",
   "metadata": {},
   "outputs": [
    {
     "data": {
      "text/plain": [
       "0   2022-07-11 19:12:04+03:00\n",
       "1   2022-06-03 11:53:45+03:00\n",
       "2   2018-07-02 16:11:04+03:00\n",
       "3   2018-02-21 21:50:00+03:00\n",
       "4   2023-10-23 10:32:15+03:00\n",
       "Name: DDATE, dtype: datetime64[ns, UTC+03:00]"
      ]
     },
     "execution_count": 29,
     "metadata": {},
     "output_type": "execute_result"
    }
   ],
   "source": [
    "pd.to_datetime(izvestia[:5][\"DDATE\"])"
   ]
  },
  {
   "cell_type": "code",
   "execution_count": 19,
   "id": "66a9536e-f2ef-44f5-9c7c-eec00f329e47",
   "metadata": {},
   "outputs": [],
   "source": [
    "gd[\"HEADER\"] = pd.to_datetime(gd.HEADER)"
   ]
  },
  {
   "cell_type": "code",
   "execution_count": 20,
   "id": "4b0d98ea-6a65-4580-87bc-02ab5a4d917f",
   "metadata": {},
   "outputs": [
    {
     "name": "stdout",
     "output_type": "stream",
     "text": [
      "<class 'pandas.core.frame.DataFrame'>\n",
      "RangeIndex: 1462 entries, 0 to 1461\n",
      "Data columns (total 3 columns):\n",
      " #   Column      Non-Null Count  Dtype         \n",
      "---  ------      --------------  -----         \n",
      " 0   HEADER      1462 non-null   datetime64[ns]\n",
      " 1   GD_URL      1462 non-null   object        \n",
      " 2   TRANSCRIPT  1462 non-null   object        \n",
      "dtypes: datetime64[ns](1), object(2)\n",
      "memory usage: 34.4+ KB\n"
     ]
    }
   ],
   "source": [
    "gd.info()"
   ]
  },
  {
   "cell_type": "code",
   "execution_count": null,
   "id": "400f77f1-8a03-4651-b445-90829a694685",
   "metadata": {},
   "outputs": [],
   "source": []
  },
  {
   "cell_type": "code",
   "execution_count": 3,
   "id": "5361f174-3365-48fe-86fd-15d94389fd71",
   "metadata": {},
   "outputs": [],
   "source": [
    "os.chdir(\"E:\\diplom\\web pages\\izvestia\")"
   ]
  },
  {
   "cell_type": "code",
   "execution_count": 4,
   "id": "8a811e50-b6a2-47c0-82c0-5241fadcd07b",
   "metadata": {},
   "outputs": [],
   "source": [
    "def filename():\n",
    "    for root, dirs, files in os.walk(os.getcwd()):\n",
    "        for name in files:\n",
    "            yield name"
   ]
  },
  {
   "cell_type": "code",
   "execution_count": 5,
   "id": "9c231d27-ea3e-4be3-83db-ba4ffa0573be",
   "metadata": {},
   "outputs": [],
   "source": [
    "errors = []\n",
    "err_files = []"
   ]
  },
  {
   "cell_type": "code",
   "execution_count": 15,
   "id": "2e981bc9-26fe-4f07-a9f0-a72e26f4a410",
   "metadata": {},
   "outputs": [],
   "source": [
    "for file in filename():\n",
    "    with open(file, encoding='utf-8') as f:\n",
    "        try:\n",
    "            html = f.read()\n",
    "            soup = BeautifulSoup(html)\n",
    "            try:\n",
    "                author = soup.find(property=\"article:author\").attrs['content'].replace(\"'\", '.')\n",
    "            except:\n",
    "                author = ''\n",
    "            try:\n",
    "                date =soup.find(property=\"article:published_time\").attrs['content'].replace(\"'\", '.')\n",
    "            except:\n",
    "                date = ''\n",
    "            try:\n",
    "                url = soup.find(property=\"og:url\").attrs['content'].replace(\"'\", '.')\n",
    "            except:\n",
    "                url = ''\n",
    "            try: \n",
    "                header = soup.find(property=\"og:title\").attrs['content'].replace(\"'\", '.')\n",
    "            except:\n",
    "                header = ''\n",
    "            try: \n",
    "                section = soup.find(property=\"article:section\").attrs['content'].replace(\"'\", '.')\n",
    "            except:\n",
    "                section = ''    \n",
    "            text = ''\n",
    "            for i in soup.findAll(itemprop=\"articleBody\"):\n",
    "                text += i.text.strip().replace(\"'\", '.') + '\\n'\n",
    "            cur.execute(f\"\"\"INSERT INTO IZVESTIA_NEW (AUTHOR, DDATE, URL, HEADER, SECTION, FILENAME, TRANSCRIPT) VALUES('{author}', '{date}', '{url}', '{header}', '{section}', '{file}', '{text}');\"\"\")\n",
    "            # conn.commit()\n",
    "        except Exception as e:\n",
    "            print(file)\n",
    "            print(e)\n",
    "            errors.append(e)\n",
    "            err_files.append(file)\n",
    "conn.commit()"
   ]
  },
  {
   "cell_type": "code",
   "execution_count": 16,
   "id": "ccaedfbb-410c-4977-9d5b-4a2dd91d5db7",
   "metadata": {},
   "outputs": [
    {
     "data": {
      "text/plain": [
       "2"
      ]
     },
     "execution_count": 16,
     "metadata": {},
     "output_type": "execute_result"
    }
   ],
   "source": [
    "1+1"
   ]
  },
  {
   "cell_type": "code",
   "execution_count": 6,
   "id": "fcdc416a-6881-42ba-8fb9-49646dc59770",
   "metadata": {},
   "outputs": [],
   "source": [
    "res = cur.execute(\"\"\"SELECT * FROM IZVESTIA\"\"\")"
   ]
  },
  {
   "cell_type": "code",
   "execution_count": 13,
   "id": "ed393f03-46d9-4ba1-bff8-ad9fe693feb0",
   "metadata": {},
   "outputs": [
    {
     "data": {
      "text/plain": [
       "<sqlite3.Cursor at 0x1e47eed98f0>"
      ]
     },
     "execution_count": 13,
     "metadata": {},
     "output_type": "execute_result"
    }
   ],
   "source": [
    "cur.execute(\"\"\"CREATE TABLE IZVESTIA_NEW (\n",
    "    ID integer primary key autoincrement,\n",
    "\tAUTHOR VARCHAR(200),\n",
    "    DDATE VARCHAR(200),\n",
    "    URL VARCHAR(200),\n",
    "\tHEADER VARCHAR(200),\n",
    "\tSECTION VARCHAR(200),\n",
    "\tFILENAME VARCHAR(20),\n",
    "\tTRANSCRIPT TEXT\n",
    ");\"\"\")"
   ]
  },
  {
   "cell_type": "code",
   "execution_count": 14,
   "id": "96d82fcc-1250-4dc4-933d-fce6309db8eb",
   "metadata": {},
   "outputs": [],
   "source": [
    "conn.commit()"
   ]
  },
  {
   "cell_type": "code",
   "execution_count": 18,
   "id": "87745d0f-3a02-4b73-8c81-74138864eea8",
   "metadata": {},
   "outputs": [],
   "source": [
    "conn.close()"
   ]
  },
  {
   "cell_type": "code",
   "execution_count": 2,
   "id": "80a88b47",
   "metadata": {},
   "outputs": [
    {
     "ename": "ImportError",
     "evalue": "cannot import name 'Mapping' from 'collections' (C:\\Program Files\\Python312\\Lib\\collections\\__init__.py)",
     "output_type": "error",
     "traceback": [
      "\u001b[1;31m---------------------------------------------------------------------------\u001b[0m",
      "\u001b[1;31mImportError\u001b[0m                               Traceback (most recent call last)",
      "Cell \u001b[1;32mIn[2], line 6\u001b[0m\n\u001b[0;32m      4\u001b[0m \u001b[38;5;28;01mimport\u001b[39;00m \u001b[38;5;21;01msqlite3\u001b[39;00m\n\u001b[0;32m      5\u001b[0m \u001b[38;5;28;01mimport\u001b[39;00m \u001b[38;5;21;01mnltk\u001b[39;00m\n\u001b[1;32m----> 6\u001b[0m \u001b[38;5;28;01mfrom\u001b[39;00m \u001b[38;5;21;01mgensim\u001b[39;00m\u001b[38;5;21;01m.\u001b[39;00m\u001b[38;5;21;01mmodels\u001b[39;00m \u001b[38;5;28;01mimport\u001b[39;00m Word2Vec\n\u001b[0;32m      7\u001b[0m \u001b[38;5;28;01mimport\u001b[39;00m \u001b[38;5;21;01mpandas\u001b[39;00m \u001b[38;5;28;01mas\u001b[39;00m \u001b[38;5;21;01mpd\u001b[39;00m\n\u001b[0;32m      8\u001b[0m \u001b[38;5;28;01mimport\u001b[39;00m \u001b[38;5;21;01mnumpy\u001b[39;00m \u001b[38;5;28;01mas\u001b[39;00m \u001b[38;5;21;01mnp\u001b[39;00m\n",
      "File \u001b[1;32m~\\AppData\\Roaming\\Python\\Python312\\site-packages\\gensim\\__init__.py:5\u001b[0m\n\u001b[0;32m      1\u001b[0m \u001b[38;5;124;03m\"\"\"This package contains interfaces and functionality to compute pair-wise document similarities within a corpus\u001b[39;00m\n\u001b[0;32m      2\u001b[0m \u001b[38;5;124;03mof documents.\u001b[39;00m\n\u001b[0;32m      3\u001b[0m \u001b[38;5;124;03m\"\"\"\u001b[39;00m\n\u001b[1;32m----> 5\u001b[0m \u001b[38;5;28;01mfrom\u001b[39;00m \u001b[38;5;21;01mgensim\u001b[39;00m \u001b[38;5;28;01mimport\u001b[39;00m parsing, corpora, matutils, interfaces, models, similarities, summarization, utils  \u001b[38;5;66;03m# noqa:F401\u001b[39;00m\n\u001b[0;32m      6\u001b[0m \u001b[38;5;28;01mimport\u001b[39;00m \u001b[38;5;21;01mlogging\u001b[39;00m\n\u001b[0;32m      8\u001b[0m __version__ \u001b[38;5;241m=\u001b[39m \u001b[38;5;124m'\u001b[39m\u001b[38;5;124m3.8.0\u001b[39m\u001b[38;5;124m'\u001b[39m\n",
      "File \u001b[1;32m~\\AppData\\Roaming\\Python\\Python312\\site-packages\\gensim\\corpora\\__init__.py:12\u001b[0m\n\u001b[0;32m     10\u001b[0m \u001b[38;5;28;01mfrom\u001b[39;00m \u001b[38;5;21;01m.\u001b[39;00m\u001b[38;5;21;01msvmlightcorpus\u001b[39;00m \u001b[38;5;28;01mimport\u001b[39;00m SvmLightCorpus  \u001b[38;5;66;03m# noqa:F401\u001b[39;00m\n\u001b[0;32m     11\u001b[0m \u001b[38;5;28;01mfrom\u001b[39;00m \u001b[38;5;21;01m.\u001b[39;00m\u001b[38;5;21;01mlowcorpus\u001b[39;00m \u001b[38;5;28;01mimport\u001b[39;00m LowCorpus  \u001b[38;5;66;03m# noqa:F401\u001b[39;00m\n\u001b[1;32m---> 12\u001b[0m \u001b[38;5;28;01mfrom\u001b[39;00m \u001b[38;5;21;01m.\u001b[39;00m\u001b[38;5;21;01mdictionary\u001b[39;00m \u001b[38;5;28;01mimport\u001b[39;00m Dictionary  \u001b[38;5;66;03m# noqa:F401\u001b[39;00m\n\u001b[0;32m     13\u001b[0m \u001b[38;5;28;01mfrom\u001b[39;00m \u001b[38;5;21;01m.\u001b[39;00m\u001b[38;5;21;01mhashdictionary\u001b[39;00m \u001b[38;5;28;01mimport\u001b[39;00m HashDictionary  \u001b[38;5;66;03m# noqa:F401\u001b[39;00m\n\u001b[0;32m     14\u001b[0m \u001b[38;5;28;01mfrom\u001b[39;00m \u001b[38;5;21;01m.\u001b[39;00m\u001b[38;5;21;01mwikicorpus\u001b[39;00m \u001b[38;5;28;01mimport\u001b[39;00m WikiCorpus  \u001b[38;5;66;03m# noqa:F401\u001b[39;00m\n",
      "File \u001b[1;32m~\\AppData\\Roaming\\Python\\Python312\\site-packages\\gensim\\corpora\\dictionary.py:11\u001b[0m\n\u001b[0;32m      7\u001b[0m \u001b[38;5;124;03m\"\"\"This module implements the concept of a Dictionary -- a mapping between words and their integer ids.\"\"\"\u001b[39;00m\n\u001b[0;32m      9\u001b[0m \u001b[38;5;28;01mfrom\u001b[39;00m \u001b[38;5;21;01m__future__\u001b[39;00m \u001b[38;5;28;01mimport\u001b[39;00m with_statement\n\u001b[1;32m---> 11\u001b[0m \u001b[38;5;28;01mfrom\u001b[39;00m \u001b[38;5;21;01mcollections\u001b[39;00m \u001b[38;5;28;01mimport\u001b[39;00m Mapping, defaultdict\n\u001b[0;32m     12\u001b[0m \u001b[38;5;28;01mimport\u001b[39;00m \u001b[38;5;21;01msys\u001b[39;00m\n\u001b[0;32m     13\u001b[0m \u001b[38;5;28;01mimport\u001b[39;00m \u001b[38;5;21;01mlogging\u001b[39;00m\n",
      "\u001b[1;31mImportError\u001b[0m: cannot import name 'Mapping' from 'collections' (C:\\Program Files\\Python312\\Lib\\collections\\__init__.py)"
     ]
    }
   ],
   "source": [
    "from bs4 import BeautifulSoup\n",
    "import json\n",
    "import os\n",
    "import sqlite3\n",
    "import nltk\n",
    "from gensim.models import Word2Vec\n",
    "import pandas as pd\n",
    "import numpy as np"
   ]
  },
  {
   "cell_type": "code",
   "execution_count": 4,
   "id": "ffbea98c-74da-4d5f-bef8-71c846edf913",
   "metadata": {},
   "outputs": [],
   "source": [
    "import os\n",
    "os.chdir(\"..\")"
   ]
  },
  {
   "cell_type": "code",
   "execution_count": 6,
   "id": "15646ba3-c84f-408e-9247-1040d2b64cbd",
   "metadata": {},
   "outputs": [
    {
     "data": {
      "text/plain": [
       "'C:\\\\Users\\\\alexander\\\\PycharmProjects\\\\diplom'"
      ]
     },
     "execution_count": 6,
     "metadata": {},
     "output_type": "execute_result"
    }
   ],
   "source": [
    "os.chdir(\"..\")\n",
    "os.getcwd()"
   ]
  },
  {
   "cell_type": "code",
   "execution_count": null,
   "id": "1670b2f9-b3b5-46b6-b52f-e6a7c6561093",
   "metadata": {},
   "outputs": [],
   "source": [
    "!pip instal"
   ]
  },
  {
   "cell_type": "code",
   "execution_count": 3,
   "id": "6cfe0a86-37c4-4766-a359-8a1e4610ca49",
   "metadata": {},
   "outputs": [
    {
     "name": "stdout",
     "output_type": "stream",
     "text": [
      "Defaulting to user installation because normal site-packages is not writeable\n"
     ]
    },
    {
     "name": "stderr",
     "output_type": "stream",
     "text": [
      "ERROR: Could not find a version that satisfies the requirement collections (from versions: none)\n",
      "ERROR: No matching distribution found for collections\n"
     ]
    }
   ],
   "source": [
    "!pip install collections --upgrade"
   ]
  },
  {
   "cell_type": "code",
   "execution_count": null,
   "id": "cb41f64d-03d1-4aee-8d98-1083c812928d",
   "metadata": {},
   "outputs": [],
   "source": []
  },
  {
   "cell_type": "code",
   "execution_count": 2,
   "id": "d632323f",
   "metadata": {},
   "outputs": [],
   "source": [
    "conn = sqlite3.connect('E:\\diplom\\diplom.db')\n",
    "cur = conn.cursor()"
   ]
  },
  {
   "cell_type": "code",
   "execution_count": 6,
   "id": "9eecafd2",
   "metadata": {},
   "outputs": [],
   "source": [
    "# cur.execute(\"\"\"CREATE TABLE IZVESTIA_COPY (\n",
    "# ID integer primary key autoincrement,\n",
    "# \tAUTHOR VARCHAR(200),\n",
    "#     DDATE VARCHAR(200),\n",
    "#     URL VARCHAR(200),\n",
    "# \tHEADER VARCHAR(200),\n",
    "# \tSECTION VARCHAR(200),\n",
    "# \tFILENAME VARCHAR(20),\n",
    "# \tTRANSCRIPT TEXT\n",
    "# );\"\"\")\n",
    "# cur.execute(\"\"\"DROP TABLE IZVESTIA_COPY\"\"\")\n",
    "conn.commit()"
   ]
  },
  {
   "cell_type": "code",
   "execution_count": 7,
   "id": "66041665",
   "metadata": {},
   "outputs": [
    {
     "name": "stdout",
     "output_type": "stream",
     "text": [
      "detected democracy texts\n"
     ]
    }
   ],
   "source": [
    "nlp = spacy.load('ru_core_news_sm')\n",
    "res = cur.execute(\"\"\"select * from IZVESTIA_NEW\"\"\")\n",
    "def get_texts():\n",
    "    for r in res:\n",
    "        yield r\n",
    "\n",
    "izvestia_frame = pd.DataFrame(columns=['file', 'date', 'count'])\n",
    "izvestia_texts_democracy = []\n",
    "corpus_izvestia = []\n",
    "\n",
    "for row in get_texts():\n",
    "    i, author, date, url, header, section, file, text = row\n",
    "    doc = nlp(text)\n",
    "    democracy_count = 0\n",
    "    lemmas = [token.lemma_ for token in doc]\n",
    "    democracy_count = lemmas.count('демократия')\n",
    "    izvestia_frame.loc[i] = file, date, democracy_count\n",
    "#     print(democracy_count)\n",
    "    if democracy_count:\n",
    "        izvestia_texts_democracy.append(text)\n",
    "        corpus_izvestia.append(lemmas)\n",
    "print('detected democracy texts')\n",
    "izvestia_frame.to_excel(\"izvestia.xlsx\")\n",
    "model = Word2Vec(corpus_izvestia, \n",
    "                 vector_size=32,      # embedding vector size\n",
    "                 min_count=5,  # consider words that occured at least 5 times\n",
    "                 window=5).wv"
   ]
  },
  {
   "cell_type": "markdown",
   "id": "3b37769f",
   "metadata": {},
   "source": [
    "window=5"
   ]
  },
  {
   "cell_type": "code",
   "execution_count": 8,
   "id": "02f58a15",
   "metadata": {},
   "outputs": [
    {
     "data": {
      "text/plain": [
       "array([-3.5766926 , -3.0316958 ,  0.9686452 , -1.3188351 ,  2.546759  ,\n",
       "       -0.6474348 ,  0.09102358, -0.45753068, -0.70596963,  1.4003515 ,\n",
       "        0.46409538,  2.400015  , -0.3453278 , -1.0255783 , -1.0174031 ,\n",
       "       -0.76842135,  1.3332396 ,  0.08861988,  0.92493194, -2.474383  ,\n",
       "       -1.0612268 ,  2.1174538 ,  1.8337611 , -0.6436659 , -0.47902954,\n",
       "        0.71494097,  0.46093917,  1.6548154 ,  1.2463144 , -0.66734   ,\n",
       "       -2.7372336 ,  2.6495342 ], dtype=float32)"
      ]
     },
     "execution_count": 8,
     "metadata": {},
     "output_type": "execute_result"
    }
   ],
   "source": [
    "model.get_vector('демократия')"
   ]
  },
  {
   "cell_type": "code",
   "execution_count": 9,
   "id": "664547df",
   "metadata": {},
   "outputs": [
    {
     "data": {
      "text/plain": [
       "[('ценность', 0.8455156087875366),\n",
       " ('справедливость', 0.8448948860168457),\n",
       " ('народ', 0.794706404209137),\n",
       " ('принцип', 0.783704400062561),\n",
       " ('общество', 0.7612237930297852),\n",
       " ('либеральный', 0.7468475699424744),\n",
       " ('свобода', 0.7453266978263855),\n",
       " ('меньшинство', 0.7419408559799194),\n",
       " ('движение', 0.7358075380325317),\n",
       " ('нация', 0.7312542796134949)]"
      ]
     },
     "execution_count": 9,
     "metadata": {},
     "output_type": "execute_result"
    }
   ],
   "source": [
    "model.most_similar('демократия')"
   ]
  },
  {
   "cell_type": "code",
   "execution_count": 37,
   "id": "cca31177",
   "metadata": {},
   "outputs": [
    {
     "data": {
      "text/plain": [
       "[('либеральный', 0.7222791910171509),\n",
       " ('свободный', 0.6692877411842346),\n",
       " ('продвижение', 0.6299036741256714),\n",
       " ('социальный', 0.6255321502685547),\n",
       " ('современный', 0.6164387464523315),\n",
       " ('демократический', 0.6113343238830566),\n",
       " ('культурный', 0.6105185747146606),\n",
       " ('справедливость', 0.6072991490364075),\n",
       " ('процветание', 0.5998404622077942),\n",
       " ('двойной', 0.5981652736663818)]"
      ]
     },
     "execution_count": 37,
     "metadata": {},
     "output_type": "execute_result"
    }
   ],
   "source": [
    "model.most_similar(positive=['демократия', 'гражданский'], negative=['выбор'])"
   ]
  },
  {
   "cell_type": "code",
   "execution_count": 26,
   "id": "73d00ce8",
   "metadata": {},
   "outputs": [],
   "source": [
    "model = Word2Vec(corpus_izvestia, \n",
    "                 vector_size=64,      # embedding vector size\n",
    "                 min_count=5,  # consider words that occured at least 5 times\n",
    "                 window=2).wv"
   ]
  },
  {
   "cell_type": "code",
   "execution_count": 27,
   "id": "91501c7e",
   "metadata": {},
   "outputs": [
    {
     "data": {
      "text/plain": [
       "[('ценность', 0.8228520154953003),\n",
       " ('принцип', 0.7854652404785156),\n",
       " ('справедливость', 0.7762071490287781),\n",
       " ('либеральный', 0.7531120181083679),\n",
       " ('меньшинство', 0.7300997972488403),\n",
       " ('общество', 0.7276099324226379),\n",
       " ('единство', 0.7206049561500549),\n",
       " ('цивилизация', 0.7091200351715088),\n",
       " ('свобода', 0.7019317150115967),\n",
       " ('движение', 0.6981418132781982)]"
      ]
     },
     "execution_count": 27,
     "metadata": {},
     "output_type": "execute_result"
    }
   ],
   "source": [
    "model.most_similar('демократия')"
   ]
  },
  {
   "cell_type": "code",
   "execution_count": 42,
   "id": "7a3d9cf6",
   "metadata": {},
   "outputs": [],
   "source": [
    "model = Word2Vec(corpus_izvestia, \n",
    "                 vector_size=1024,      # embedding vector size\n",
    "                 min_count=1,  # consider words that occured at least 5 times\n",
    "                 window=3).wv"
   ]
  },
  {
   "cell_type": "code",
   "execution_count": 43,
   "id": "b5d38b96",
   "metadata": {},
   "outputs": [
    {
     "data": {
      "text/plain": [
       "[('ценность', 0.8878699541091919),\n",
       " ('общество', 0.8470258116722107),\n",
       " ('принцип', 0.8460907340049744),\n",
       " ('справедливость', 0.845017671585083),\n",
       " ('народ', 0.823380708694458),\n",
       " ('стандарт', 0.8123600482940674),\n",
       " ('движение', 0.8115740418434143),\n",
       " ('либеральный', 0.7893827557563782),\n",
       " ('меньшинство', 0.783093273639679),\n",
       " ('свобода', 0.7830301523208618)]"
      ]
     },
     "execution_count": 43,
     "metadata": {},
     "output_type": "execute_result"
    }
   ],
   "source": [
    "model.most_similar('демократия')"
   ]
  },
  {
   "cell_type": "code",
   "execution_count": 63,
   "id": "ca6298a3",
   "metadata": {},
   "outputs": [
    {
     "data": {
      "text/plain": [
       "[('зеленский', 0.9247225522994995),\n",
       " ('зеленского', 0.8692907094955444),\n",
       " ('евсеев', 0.8473546504974365),\n",
       " ('васильев', 0.8473291397094727),\n",
       " ('макей', 0.8345725536346436),\n",
       " ('жириновский', 0.8300738334655762),\n",
       " ('зеленским', 0.8071434497833252),\n",
       " ('владимир', 0.792557954788208),\n",
       " ('лукашенко', 0.7895982265472412),\n",
       " ('набоков', 0.7876448035240173)]"
      ]
     },
     "execution_count": 63,
     "metadata": {},
     "output_type": "execute_result"
    }
   ],
   "source": [
    "model.most_similar('путин')"
   ]
  },
  {
   "cell_type": "code",
   "execution_count": 69,
   "id": "b10613b7",
   "metadata": {},
   "outputs": [
    {
     "data": {
      "text/plain": [
       "[('фбр', 0.9039924740791321),\n",
       " ('алексей', 0.899131715297699),\n",
       " ('ярошенко', 0.8960999250411987),\n",
       " ('цру', 0.8897567987442017),\n",
       " ('начальник', 0.8874965310096741),\n",
       " ('джон', 0.8872145414352417),\n",
       " ('виктор', 0.8832811713218689),\n",
       " ('моравецкий', 0.8816667795181274),\n",
       " ('марко', 0.8805704116821289),\n",
       " ('милан', 0.8765102624893188)]"
      ]
     },
     "execution_count": 69,
     "metadata": {},
     "output_type": "execute_result"
    }
   ],
   "source": [
    "model.most_similar(positive=['навальный'])"
   ]
  },
  {
   "cell_type": "code",
   "execution_count": 74,
   "id": "8df83e15",
   "metadata": {},
   "outputs": [
    {
     "data": {
      "text/plain": [
       "[('главред', 0.7952739596366882),\n",
       " ('данилюк', 0.7803899049758911),\n",
       " ('мильчакова', 0.7721138596534729),\n",
       " ('файнер', 0.7712170481681824),\n",
       " ('бречалов', 0.7667205333709717),\n",
       " ('баканов', 0.753603458404541),\n",
       " ('базума', 0.7476952075958252),\n",
       " ('фезер', 0.7417121529579163),\n",
       " ('gmf', 0.7397336959838867),\n",
       " ('мелконян', 0.7363455295562744)]"
      ]
     },
     "execution_count": 74,
     "metadata": {},
     "output_type": "execute_result"
    }
   ],
   "source": [
    "model.most_similar(positive=['навальный'], negative=['деньга'])"
   ]
  },
  {
   "cell_type": "code",
   "execution_count": 64,
   "id": "d5fbb303",
   "metadata": {},
   "outputs": [],
   "source": [
    "from gensim.corpora.dictionary import Dictionary"
   ]
  },
  {
   "cell_type": "code",
   "execution_count": 65,
   "id": "506f5994",
   "metadata": {},
   "outputs": [],
   "source": [
    "import re"
   ]
  },
  {
   "cell_type": "code",
   "execution_count": 66,
   "id": "dc237219",
   "metadata": {},
   "outputs": [],
   "source": [
    "pattern = re.compile('[^a-zA-Z0-9а-яА-ЯёЁ\\s]+')"
   ]
  },
  {
   "cell_type": "code",
   "execution_count": null,
   "id": "21d0e000",
   "metadata": {},
   "outputs": [],
   "source": []
  },
  {
   "cell_type": "code",
   "execution_count": 41,
   "id": "3df9d2d7",
   "metadata": {},
   "outputs": [],
   "source": [
    "phrases = Phrases(corpus_izvestia, min_count=1, threshold=1)"
   ]
  },
  {
   "cell_type": "code",
   "execution_count": 11,
   "id": "428b29d1",
   "metadata": {},
   "outputs": [],
   "source": [
    "with open('izvestia_tokens.txt', 'a+', encoding='utf8') as f:\n",
    "    \n",
    "    for line in corpus_izvestia:\n",
    "        f.write(';'.join(line))"
   ]
  },
  {
   "cell_type": "code",
   "execution_count": 12,
   "id": "d9a619b4",
   "metadata": {},
   "outputs": [
    {
     "data": {
      "text/html": [
       "<div>\n",
       "<style scoped>\n",
       "    .dataframe tbody tr th:only-of-type {\n",
       "        vertical-align: middle;\n",
       "    }\n",
       "\n",
       "    .dataframe tbody tr th {\n",
       "        vertical-align: top;\n",
       "    }\n",
       "\n",
       "    .dataframe thead th {\n",
       "        text-align: right;\n",
       "    }\n",
       "</style>\n",
       "<table border=\"1\" class=\"dataframe\">\n",
       "  <thead>\n",
       "    <tr style=\"text-align: right;\">\n",
       "      <th></th>\n",
       "      <th>file</th>\n",
       "      <th>date</th>\n",
       "      <th>count</th>\n",
       "    </tr>\n",
       "  </thead>\n",
       "  <tbody>\n",
       "    <tr>\n",
       "      <th>714</th>\n",
       "      <td>101108.html</td>\n",
       "      <td>2023-04-27T00:00:01+03:00</td>\n",
       "      <td>1</td>\n",
       "    </tr>\n",
       "    <tr>\n",
       "      <th>952</th>\n",
       "      <td>101499.html</td>\n",
       "      <td>2017-10-24T09:00:00+03:00</td>\n",
       "      <td>1</td>\n",
       "    </tr>\n",
       "    <tr>\n",
       "      <th>1567</th>\n",
       "      <td>10243.html</td>\n",
       "      <td>2023-10-14T00:01:00+03:00</td>\n",
       "      <td>1</td>\n",
       "    </tr>\n",
       "    <tr>\n",
       "      <th>1696</th>\n",
       "      <td>10262.html</td>\n",
       "      <td>2023-06-19T19:06:01+03:00</td>\n",
       "      <td>1</td>\n",
       "    </tr>\n",
       "    <tr>\n",
       "      <th>3476</th>\n",
       "      <td>105268.html</td>\n",
       "      <td>2019-01-29T19:15:00+03:00</td>\n",
       "      <td>1</td>\n",
       "    </tr>\n",
       "    <tr>\n",
       "      <th>...</th>\n",
       "      <td>...</td>\n",
       "      <td>...</td>\n",
       "      <td>...</td>\n",
       "    </tr>\n",
       "    <tr>\n",
       "      <th>265066</th>\n",
       "      <td>94923.html</td>\n",
       "      <td>2017-09-25T08:00:00+03:00</td>\n",
       "      <td>4</td>\n",
       "    </tr>\n",
       "    <tr>\n",
       "      <th>267223</th>\n",
       "      <td>98091.html</td>\n",
       "      <td>2023-03-20T00:01:00+03:00</td>\n",
       "      <td>2</td>\n",
       "    </tr>\n",
       "    <tr>\n",
       "      <th>267227</th>\n",
       "      <td>98095.html</td>\n",
       "      <td>2021-01-09T00:02:00+03:00</td>\n",
       "      <td>1</td>\n",
       "    </tr>\n",
       "    <tr>\n",
       "      <th>267983</th>\n",
       "      <td>99177.html</td>\n",
       "      <td>2017-08-09T14:01:00+03:00</td>\n",
       "      <td>1</td>\n",
       "    </tr>\n",
       "    <tr>\n",
       "      <th>268230</th>\n",
       "      <td>9954.html</td>\n",
       "      <td>2023-09-27T00:01:00+03:00</td>\n",
       "      <td>2</td>\n",
       "    </tr>\n",
       "  </tbody>\n",
       "</table>\n",
       "<p>971 rows × 3 columns</p>\n",
       "</div>"
      ],
      "text/plain": [
       "               file                       date count\n",
       "714     101108.html  2023-04-27T00:00:01+03:00     1\n",
       "952     101499.html  2017-10-24T09:00:00+03:00     1\n",
       "1567     10243.html  2023-10-14T00:01:00+03:00     1\n",
       "1696     10262.html  2023-06-19T19:06:01+03:00     1\n",
       "3476    105268.html  2019-01-29T19:15:00+03:00     1\n",
       "...             ...                        ...   ...\n",
       "265066   94923.html  2017-09-25T08:00:00+03:00     4\n",
       "267223   98091.html  2023-03-20T00:01:00+03:00     2\n",
       "267227   98095.html  2021-01-09T00:02:00+03:00     1\n",
       "267983   99177.html  2017-08-09T14:01:00+03:00     1\n",
       "268230    9954.html  2023-09-27T00:01:00+03:00     2\n",
       "\n",
       "[971 rows x 3 columns]"
      ]
     },
     "execution_count": 12,
     "metadata": {},
     "output_type": "execute_result"
    }
   ],
   "source": [
    "izvestia_frame[izvestia_frame['count']>0]"
   ]
  },
  {
   "cell_type": "code",
   "execution_count": 13,
   "id": "4fb8ec2e",
   "metadata": {},
   "outputs": [],
   "source": [
    "izvestia_frame['datetime'] = izvestia_frame['date']"
   ]
  },
  {
   "cell_type": "code",
   "execution_count": 25,
   "id": "0aaf5cf9",
   "metadata": {},
   "outputs": [
    {
     "ename": "ValueError",
     "evalue": "Tz-aware datetime.datetime cannot be converted to datetime64 unless utc=True",
     "output_type": "error",
     "traceback": [
      "\u001b[1;31m---------------------------------------------------------------------------\u001b[0m",
      "\u001b[1;31mTypeError\u001b[0m                                 Traceback (most recent call last)",
      "\u001b[1;32m~\\AppData\\Local\\Packages\\PythonSoftwareFoundation.Python.3.7_qbz5n2kfra8p0\\LocalCache\\local-packages\\Python37\\site-packages\\pandas\\core\\arrays\\datetimes.py\u001b[0m in \u001b[0;36mobjects_to_datetime64ns\u001b[1;34m(data, dayfirst, yearfirst, utc, errors, require_iso8601, allow_object, allow_mixed)\u001b[0m\n\u001b[0;32m   2191\u001b[0m         \u001b[1;32mtry\u001b[0m\u001b[1;33m:\u001b[0m\u001b[1;33m\u001b[0m\u001b[1;33m\u001b[0m\u001b[0m\n\u001b[1;32m-> 2192\u001b[1;33m             \u001b[0mvalues\u001b[0m\u001b[1;33m,\u001b[0m \u001b[0mtz_parsed\u001b[0m \u001b[1;33m=\u001b[0m \u001b[0mconversion\u001b[0m\u001b[1;33m.\u001b[0m\u001b[0mdatetime_to_datetime64\u001b[0m\u001b[1;33m(\u001b[0m\u001b[0mdata\u001b[0m\u001b[1;33m.\u001b[0m\u001b[0mravel\u001b[0m\u001b[1;33m(\u001b[0m\u001b[1;34m\"K\"\u001b[0m\u001b[1;33m)\u001b[0m\u001b[1;33m)\u001b[0m\u001b[1;33m\u001b[0m\u001b[1;33m\u001b[0m\u001b[0m\n\u001b[0m\u001b[0;32m   2193\u001b[0m             \u001b[1;31m# If tzaware, these values represent unix timestamps, so we\u001b[0m\u001b[1;33m\u001b[0m\u001b[1;33m\u001b[0m\u001b[1;33m\u001b[0m\u001b[0m\n",
      "\u001b[1;32m~\\AppData\\Local\\Packages\\PythonSoftwareFoundation.Python.3.7_qbz5n2kfra8p0\\LocalCache\\local-packages\\Python37\\site-packages\\pandas\\_libs\\tslibs\\conversion.pyx\u001b[0m in \u001b[0;36mpandas._libs.tslibs.conversion.datetime_to_datetime64\u001b[1;34m()\u001b[0m\n",
      "\u001b[1;31mTypeError\u001b[0m: Unrecognized value type: <class 'str'>",
      "\nDuring handling of the above exception, another exception occurred:\n",
      "\u001b[1;31mValueError\u001b[0m                                Traceback (most recent call last)",
      "\u001b[1;32m~\\AppData\\Local\\Temp\\ipykernel_16164\\4098945223.py\u001b[0m in \u001b[0;36m<module>\u001b[1;34m\u001b[0m\n\u001b[1;32m----> 1\u001b[1;33m \u001b[0mpd\u001b[0m\u001b[1;33m.\u001b[0m\u001b[0mto_datetime\u001b[0m\u001b[1;33m(\u001b[0m\u001b[0mizvestia_frame\u001b[0m\u001b[1;33m[\u001b[0m\u001b[1;34m'datetime'\u001b[0m\u001b[1;33m]\u001b[0m\u001b[1;33m,\u001b[0m \u001b[0merrors\u001b[0m\u001b[1;33m=\u001b[0m\u001b[1;34m'coerce'\u001b[0m\u001b[1;33m,\u001b[0m \u001b[0mutc\u001b[0m\u001b[1;33m=\u001b[0m\u001b[1;32mFalse\u001b[0m\u001b[1;33m)\u001b[0m\u001b[1;33m.\u001b[0m\u001b[0mastype\u001b[0m\u001b[1;33m(\u001b[0m\u001b[1;34m'datetime64'\u001b[0m\u001b[1;33m)\u001b[0m\u001b[1;33m\u001b[0m\u001b[1;33m\u001b[0m\u001b[0m\n\u001b[0m",
      "\u001b[1;32m~\\AppData\\Local\\Packages\\PythonSoftwareFoundation.Python.3.7_qbz5n2kfra8p0\\LocalCache\\local-packages\\Python37\\site-packages\\pandas\\core\\generic.py\u001b[0m in \u001b[0;36mastype\u001b[1;34m(self, dtype, copy, errors)\u001b[0m\n\u001b[0;32m   5813\u001b[0m         \u001b[1;32melse\u001b[0m\u001b[1;33m:\u001b[0m\u001b[1;33m\u001b[0m\u001b[1;33m\u001b[0m\u001b[0m\n\u001b[0;32m   5814\u001b[0m             \u001b[1;31m# else, only a single dtype is given\u001b[0m\u001b[1;33m\u001b[0m\u001b[1;33m\u001b[0m\u001b[1;33m\u001b[0m\u001b[0m\n\u001b[1;32m-> 5815\u001b[1;33m             \u001b[0mnew_data\u001b[0m \u001b[1;33m=\u001b[0m \u001b[0mself\u001b[0m\u001b[1;33m.\u001b[0m\u001b[0m_mgr\u001b[0m\u001b[1;33m.\u001b[0m\u001b[0mastype\u001b[0m\u001b[1;33m(\u001b[0m\u001b[0mdtype\u001b[0m\u001b[1;33m=\u001b[0m\u001b[0mdtype\u001b[0m\u001b[1;33m,\u001b[0m \u001b[0mcopy\u001b[0m\u001b[1;33m=\u001b[0m\u001b[0mcopy\u001b[0m\u001b[1;33m,\u001b[0m \u001b[0merrors\u001b[0m\u001b[1;33m=\u001b[0m\u001b[0merrors\u001b[0m\u001b[1;33m)\u001b[0m\u001b[1;33m\u001b[0m\u001b[1;33m\u001b[0m\u001b[0m\n\u001b[0m\u001b[0;32m   5816\u001b[0m             \u001b[1;32mreturn\u001b[0m \u001b[0mself\u001b[0m\u001b[1;33m.\u001b[0m\u001b[0m_constructor\u001b[0m\u001b[1;33m(\u001b[0m\u001b[0mnew_data\u001b[0m\u001b[1;33m)\u001b[0m\u001b[1;33m.\u001b[0m\u001b[0m__finalize__\u001b[0m\u001b[1;33m(\u001b[0m\u001b[0mself\u001b[0m\u001b[1;33m,\u001b[0m \u001b[0mmethod\u001b[0m\u001b[1;33m=\u001b[0m\u001b[1;34m\"astype\"\u001b[0m\u001b[1;33m)\u001b[0m\u001b[1;33m\u001b[0m\u001b[1;33m\u001b[0m\u001b[0m\n\u001b[0;32m   5817\u001b[0m \u001b[1;33m\u001b[0m\u001b[0m\n",
      "\u001b[1;32m~\\AppData\\Local\\Packages\\PythonSoftwareFoundation.Python.3.7_qbz5n2kfra8p0\\LocalCache\\local-packages\\Python37\\site-packages\\pandas\\core\\internals\\managers.py\u001b[0m in \u001b[0;36mastype\u001b[1;34m(self, dtype, copy, errors)\u001b[0m\n\u001b[0;32m    416\u001b[0m \u001b[1;33m\u001b[0m\u001b[0m\n\u001b[0;32m    417\u001b[0m     \u001b[1;32mdef\u001b[0m \u001b[0mastype\u001b[0m\u001b[1;33m(\u001b[0m\u001b[0mself\u001b[0m\u001b[1;33m:\u001b[0m \u001b[0mT\u001b[0m\u001b[1;33m,\u001b[0m \u001b[0mdtype\u001b[0m\u001b[1;33m,\u001b[0m \u001b[0mcopy\u001b[0m\u001b[1;33m:\u001b[0m \u001b[0mbool\u001b[0m \u001b[1;33m=\u001b[0m \u001b[1;32mFalse\u001b[0m\u001b[1;33m,\u001b[0m \u001b[0merrors\u001b[0m\u001b[1;33m:\u001b[0m \u001b[0mstr\u001b[0m \u001b[1;33m=\u001b[0m \u001b[1;34m\"raise\"\u001b[0m\u001b[1;33m)\u001b[0m \u001b[1;33m->\u001b[0m \u001b[0mT\u001b[0m\u001b[1;33m:\u001b[0m\u001b[1;33m\u001b[0m\u001b[1;33m\u001b[0m\u001b[0m\n\u001b[1;32m--> 418\u001b[1;33m         \u001b[1;32mreturn\u001b[0m \u001b[0mself\u001b[0m\u001b[1;33m.\u001b[0m\u001b[0mapply\u001b[0m\u001b[1;33m(\u001b[0m\u001b[1;34m\"astype\"\u001b[0m\u001b[1;33m,\u001b[0m \u001b[0mdtype\u001b[0m\u001b[1;33m=\u001b[0m\u001b[0mdtype\u001b[0m\u001b[1;33m,\u001b[0m \u001b[0mcopy\u001b[0m\u001b[1;33m=\u001b[0m\u001b[0mcopy\u001b[0m\u001b[1;33m,\u001b[0m \u001b[0merrors\u001b[0m\u001b[1;33m=\u001b[0m\u001b[0merrors\u001b[0m\u001b[1;33m)\u001b[0m\u001b[1;33m\u001b[0m\u001b[1;33m\u001b[0m\u001b[0m\n\u001b[0m\u001b[0;32m    419\u001b[0m \u001b[1;33m\u001b[0m\u001b[0m\n\u001b[0;32m    420\u001b[0m     def convert(\n",
      "\u001b[1;32m~\\AppData\\Local\\Packages\\PythonSoftwareFoundation.Python.3.7_qbz5n2kfra8p0\\LocalCache\\local-packages\\Python37\\site-packages\\pandas\\core\\internals\\managers.py\u001b[0m in \u001b[0;36mapply\u001b[1;34m(self, f, align_keys, ignore_failures, **kwargs)\u001b[0m\n\u001b[0;32m    325\u001b[0m                     \u001b[0mapplied\u001b[0m \u001b[1;33m=\u001b[0m \u001b[0mb\u001b[0m\u001b[1;33m.\u001b[0m\u001b[0mapply\u001b[0m\u001b[1;33m(\u001b[0m\u001b[0mf\u001b[0m\u001b[1;33m,\u001b[0m \u001b[1;33m**\u001b[0m\u001b[0mkwargs\u001b[0m\u001b[1;33m)\u001b[0m\u001b[1;33m\u001b[0m\u001b[1;33m\u001b[0m\u001b[0m\n\u001b[0;32m    326\u001b[0m                 \u001b[1;32melse\u001b[0m\u001b[1;33m:\u001b[0m\u001b[1;33m\u001b[0m\u001b[1;33m\u001b[0m\u001b[0m\n\u001b[1;32m--> 327\u001b[1;33m                     \u001b[0mapplied\u001b[0m \u001b[1;33m=\u001b[0m \u001b[0mgetattr\u001b[0m\u001b[1;33m(\u001b[0m\u001b[0mb\u001b[0m\u001b[1;33m,\u001b[0m \u001b[0mf\u001b[0m\u001b[1;33m)\u001b[0m\u001b[1;33m(\u001b[0m\u001b[1;33m**\u001b[0m\u001b[0mkwargs\u001b[0m\u001b[1;33m)\u001b[0m\u001b[1;33m\u001b[0m\u001b[1;33m\u001b[0m\u001b[0m\n\u001b[0m\u001b[0;32m    328\u001b[0m             \u001b[1;32mexcept\u001b[0m \u001b[1;33m(\u001b[0m\u001b[0mTypeError\u001b[0m\u001b[1;33m,\u001b[0m \u001b[0mNotImplementedError\u001b[0m\u001b[1;33m)\u001b[0m\u001b[1;33m:\u001b[0m\u001b[1;33m\u001b[0m\u001b[1;33m\u001b[0m\u001b[0m\n\u001b[0;32m    329\u001b[0m                 \u001b[1;32mif\u001b[0m \u001b[1;32mnot\u001b[0m \u001b[0mignore_failures\u001b[0m\u001b[1;33m:\u001b[0m\u001b[1;33m\u001b[0m\u001b[1;33m\u001b[0m\u001b[0m\n",
      "\u001b[1;32m~\\AppData\\Local\\Packages\\PythonSoftwareFoundation.Python.3.7_qbz5n2kfra8p0\\LocalCache\\local-packages\\Python37\\site-packages\\pandas\\core\\internals\\blocks.py\u001b[0m in \u001b[0;36mastype\u001b[1;34m(self, dtype, copy, errors)\u001b[0m\n\u001b[0;32m    589\u001b[0m         \u001b[0mvalues\u001b[0m \u001b[1;33m=\u001b[0m \u001b[0mself\u001b[0m\u001b[1;33m.\u001b[0m\u001b[0mvalues\u001b[0m\u001b[1;33m\u001b[0m\u001b[1;33m\u001b[0m\u001b[0m\n\u001b[0;32m    590\u001b[0m \u001b[1;33m\u001b[0m\u001b[0m\n\u001b[1;32m--> 591\u001b[1;33m         \u001b[0mnew_values\u001b[0m \u001b[1;33m=\u001b[0m \u001b[0mastype_array_safe\u001b[0m\u001b[1;33m(\u001b[0m\u001b[0mvalues\u001b[0m\u001b[1;33m,\u001b[0m \u001b[0mdtype\u001b[0m\u001b[1;33m,\u001b[0m \u001b[0mcopy\u001b[0m\u001b[1;33m=\u001b[0m\u001b[0mcopy\u001b[0m\u001b[1;33m,\u001b[0m \u001b[0merrors\u001b[0m\u001b[1;33m=\u001b[0m\u001b[0merrors\u001b[0m\u001b[1;33m)\u001b[0m\u001b[1;33m\u001b[0m\u001b[1;33m\u001b[0m\u001b[0m\n\u001b[0m\u001b[0;32m    592\u001b[0m \u001b[1;33m\u001b[0m\u001b[0m\n\u001b[0;32m    593\u001b[0m         \u001b[0mnew_values\u001b[0m \u001b[1;33m=\u001b[0m \u001b[0mmaybe_coerce_values\u001b[0m\u001b[1;33m(\u001b[0m\u001b[0mnew_values\u001b[0m\u001b[1;33m)\u001b[0m\u001b[1;33m\u001b[0m\u001b[1;33m\u001b[0m\u001b[0m\n",
      "\u001b[1;32m~\\AppData\\Local\\Packages\\PythonSoftwareFoundation.Python.3.7_qbz5n2kfra8p0\\LocalCache\\local-packages\\Python37\\site-packages\\pandas\\core\\dtypes\\cast.py\u001b[0m in \u001b[0;36mastype_array_safe\u001b[1;34m(values, dtype, copy, errors)\u001b[0m\n\u001b[0;32m   1307\u001b[0m \u001b[1;33m\u001b[0m\u001b[0m\n\u001b[0;32m   1308\u001b[0m     \u001b[1;32mtry\u001b[0m\u001b[1;33m:\u001b[0m\u001b[1;33m\u001b[0m\u001b[1;33m\u001b[0m\u001b[0m\n\u001b[1;32m-> 1309\u001b[1;33m         \u001b[0mnew_values\u001b[0m \u001b[1;33m=\u001b[0m \u001b[0mastype_array\u001b[0m\u001b[1;33m(\u001b[0m\u001b[0mvalues\u001b[0m\u001b[1;33m,\u001b[0m \u001b[0mdtype\u001b[0m\u001b[1;33m,\u001b[0m \u001b[0mcopy\u001b[0m\u001b[1;33m=\u001b[0m\u001b[0mcopy\u001b[0m\u001b[1;33m)\u001b[0m\u001b[1;33m\u001b[0m\u001b[1;33m\u001b[0m\u001b[0m\n\u001b[0m\u001b[0;32m   1310\u001b[0m     \u001b[1;32mexcept\u001b[0m \u001b[1;33m(\u001b[0m\u001b[0mValueError\u001b[0m\u001b[1;33m,\u001b[0m \u001b[0mTypeError\u001b[0m\u001b[1;33m)\u001b[0m\u001b[1;33m:\u001b[0m\u001b[1;33m\u001b[0m\u001b[1;33m\u001b[0m\u001b[0m\n\u001b[0;32m   1311\u001b[0m         \u001b[1;31m# e.g. astype_nansafe can fail on object-dtype of strings\u001b[0m\u001b[1;33m\u001b[0m\u001b[1;33m\u001b[0m\u001b[1;33m\u001b[0m\u001b[0m\n",
      "\u001b[1;32m~\\AppData\\Local\\Packages\\PythonSoftwareFoundation.Python.3.7_qbz5n2kfra8p0\\LocalCache\\local-packages\\Python37\\site-packages\\pandas\\core\\dtypes\\cast.py\u001b[0m in \u001b[0;36mastype_array\u001b[1;34m(values, dtype, copy)\u001b[0m\n\u001b[0;32m   1255\u001b[0m \u001b[1;33m\u001b[0m\u001b[0m\n\u001b[0;32m   1256\u001b[0m     \u001b[1;32melse\u001b[0m\u001b[1;33m:\u001b[0m\u001b[1;33m\u001b[0m\u001b[1;33m\u001b[0m\u001b[0m\n\u001b[1;32m-> 1257\u001b[1;33m         \u001b[0mvalues\u001b[0m \u001b[1;33m=\u001b[0m \u001b[0mastype_nansafe\u001b[0m\u001b[1;33m(\u001b[0m\u001b[0mvalues\u001b[0m\u001b[1;33m,\u001b[0m \u001b[0mdtype\u001b[0m\u001b[1;33m,\u001b[0m \u001b[0mcopy\u001b[0m\u001b[1;33m=\u001b[0m\u001b[0mcopy\u001b[0m\u001b[1;33m)\u001b[0m\u001b[1;33m\u001b[0m\u001b[1;33m\u001b[0m\u001b[0m\n\u001b[0m\u001b[0;32m   1258\u001b[0m \u001b[1;33m\u001b[0m\u001b[0m\n\u001b[0;32m   1259\u001b[0m     \u001b[1;31m# in pandas we don't store numpy str dtypes, so convert to object\u001b[0m\u001b[1;33m\u001b[0m\u001b[1;33m\u001b[0m\u001b[1;33m\u001b[0m\u001b[0m\n",
      "\u001b[1;32m~\\AppData\\Local\\Packages\\PythonSoftwareFoundation.Python.3.7_qbz5n2kfra8p0\\LocalCache\\local-packages\\Python37\\site-packages\\pandas\\core\\dtypes\\cast.py\u001b[0m in \u001b[0;36mastype_nansafe\u001b[1;34m(arr, dtype, copy, skipna)\u001b[0m\n\u001b[0;32m   1181\u001b[0m \u001b[1;33m\u001b[0m\u001b[0m\n\u001b[0;32m   1182\u001b[0m             return astype_nansafe(\n\u001b[1;32m-> 1183\u001b[1;33m                 \u001b[0mto_datetime\u001b[0m\u001b[1;33m(\u001b[0m\u001b[0marr\u001b[0m\u001b[1;33m)\u001b[0m\u001b[1;33m.\u001b[0m\u001b[0mvalues\u001b[0m\u001b[1;33m,\u001b[0m\u001b[1;33m\u001b[0m\u001b[1;33m\u001b[0m\u001b[0m\n\u001b[0m\u001b[0;32m   1184\u001b[0m                 \u001b[0mdtype\u001b[0m\u001b[1;33m,\u001b[0m\u001b[1;33m\u001b[0m\u001b[1;33m\u001b[0m\u001b[0m\n\u001b[0;32m   1185\u001b[0m                 \u001b[0mcopy\u001b[0m\u001b[1;33m=\u001b[0m\u001b[0mcopy\u001b[0m\u001b[1;33m,\u001b[0m\u001b[1;33m\u001b[0m\u001b[1;33m\u001b[0m\u001b[0m\n",
      "\u001b[1;32m~\\AppData\\Local\\Packages\\PythonSoftwareFoundation.Python.3.7_qbz5n2kfra8p0\\LocalCache\\local-packages\\Python37\\site-packages\\pandas\\core\\tools\\datetimes.py\u001b[0m in \u001b[0;36mto_datetime\u001b[1;34m(arg, errors, dayfirst, yearfirst, utc, format, exact, unit, infer_datetime_format, origin, cache)\u001b[0m\n\u001b[0;32m    910\u001b[0m             \u001b[0mresult\u001b[0m \u001b[1;33m=\u001b[0m \u001b[0m_convert_and_box_cache\u001b[0m\u001b[1;33m(\u001b[0m\u001b[0marg\u001b[0m\u001b[1;33m,\u001b[0m \u001b[0mcache_array\u001b[0m\u001b[1;33m)\u001b[0m\u001b[1;33m\u001b[0m\u001b[1;33m\u001b[0m\u001b[0m\n\u001b[0;32m    911\u001b[0m         \u001b[1;32melse\u001b[0m\u001b[1;33m:\u001b[0m\u001b[1;33m\u001b[0m\u001b[1;33m\u001b[0m\u001b[0m\n\u001b[1;32m--> 912\u001b[1;33m             \u001b[0mresult\u001b[0m \u001b[1;33m=\u001b[0m \u001b[0mconvert_listlike\u001b[0m\u001b[1;33m(\u001b[0m\u001b[0marg\u001b[0m\u001b[1;33m,\u001b[0m \u001b[0mformat\u001b[0m\u001b[1;33m)\u001b[0m\u001b[1;33m\u001b[0m\u001b[1;33m\u001b[0m\u001b[0m\n\u001b[0m\u001b[0;32m    913\u001b[0m     \u001b[1;32melse\u001b[0m\u001b[1;33m:\u001b[0m\u001b[1;33m\u001b[0m\u001b[1;33m\u001b[0m\u001b[0m\n\u001b[0;32m    914\u001b[0m         \u001b[0mresult\u001b[0m \u001b[1;33m=\u001b[0m \u001b[0mconvert_listlike\u001b[0m\u001b[1;33m(\u001b[0m\u001b[0mnp\u001b[0m\u001b[1;33m.\u001b[0m\u001b[0marray\u001b[0m\u001b[1;33m(\u001b[0m\u001b[1;33m[\u001b[0m\u001b[0marg\u001b[0m\u001b[1;33m]\u001b[0m\u001b[1;33m)\u001b[0m\u001b[1;33m,\u001b[0m \u001b[0mformat\u001b[0m\u001b[1;33m)\u001b[0m\u001b[1;33m[\u001b[0m\u001b[1;36m0\u001b[0m\u001b[1;33m]\u001b[0m\u001b[1;33m\u001b[0m\u001b[1;33m\u001b[0m\u001b[0m\n",
      "\u001b[1;32m~\\AppData\\Local\\Packages\\PythonSoftwareFoundation.Python.3.7_qbz5n2kfra8p0\\LocalCache\\local-packages\\Python37\\site-packages\\pandas\\core\\tools\\datetimes.py\u001b[0m in \u001b[0;36m_convert_listlike_datetimes\u001b[1;34m(arg, format, name, tz, unit, errors, infer_datetime_format, dayfirst, yearfirst, exact)\u001b[0m\n\u001b[0;32m    406\u001b[0m         \u001b[0merrors\u001b[0m\u001b[1;33m=\u001b[0m\u001b[0merrors\u001b[0m\u001b[1;33m,\u001b[0m\u001b[1;33m\u001b[0m\u001b[1;33m\u001b[0m\u001b[0m\n\u001b[0;32m    407\u001b[0m         \u001b[0mrequire_iso8601\u001b[0m\u001b[1;33m=\u001b[0m\u001b[0mrequire_iso8601\u001b[0m\u001b[1;33m,\u001b[0m\u001b[1;33m\u001b[0m\u001b[1;33m\u001b[0m\u001b[0m\n\u001b[1;32m--> 408\u001b[1;33m         \u001b[0mallow_object\u001b[0m\u001b[1;33m=\u001b[0m\u001b[1;32mTrue\u001b[0m\u001b[1;33m,\u001b[0m\u001b[1;33m\u001b[0m\u001b[1;33m\u001b[0m\u001b[0m\n\u001b[0m\u001b[0;32m    409\u001b[0m     )\n\u001b[0;32m    410\u001b[0m \u001b[1;33m\u001b[0m\u001b[0m\n",
      "\u001b[1;32m~\\AppData\\Local\\Packages\\PythonSoftwareFoundation.Python.3.7_qbz5n2kfra8p0\\LocalCache\\local-packages\\Python37\\site-packages\\pandas\\core\\arrays\\datetimes.py\u001b[0m in \u001b[0;36mobjects_to_datetime64ns\u001b[1;34m(data, dayfirst, yearfirst, utc, errors, require_iso8601, allow_object, allow_mixed)\u001b[0m\n\u001b[0;32m   2196\u001b[0m             \u001b[1;32mreturn\u001b[0m \u001b[0mvalues\u001b[0m\u001b[1;33m.\u001b[0m\u001b[0mview\u001b[0m\u001b[1;33m(\u001b[0m\u001b[1;34m\"i8\"\u001b[0m\u001b[1;33m)\u001b[0m\u001b[1;33m,\u001b[0m \u001b[0mtz_parsed\u001b[0m\u001b[1;33m\u001b[0m\u001b[1;33m\u001b[0m\u001b[0m\n\u001b[0;32m   2197\u001b[0m         \u001b[1;32mexcept\u001b[0m \u001b[1;33m(\u001b[0m\u001b[0mValueError\u001b[0m\u001b[1;33m,\u001b[0m \u001b[0mTypeError\u001b[0m\u001b[1;33m)\u001b[0m\u001b[1;33m:\u001b[0m\u001b[1;33m\u001b[0m\u001b[1;33m\u001b[0m\u001b[0m\n\u001b[1;32m-> 2198\u001b[1;33m             \u001b[1;32mraise\u001b[0m \u001b[0merr\u001b[0m\u001b[1;33m\u001b[0m\u001b[1;33m\u001b[0m\u001b[0m\n\u001b[0m\u001b[0;32m   2199\u001b[0m \u001b[1;33m\u001b[0m\u001b[0m\n\u001b[0;32m   2200\u001b[0m     \u001b[1;32mif\u001b[0m \u001b[0mtz_parsed\u001b[0m \u001b[1;32mis\u001b[0m \u001b[1;32mnot\u001b[0m \u001b[1;32mNone\u001b[0m\u001b[1;33m:\u001b[0m\u001b[1;33m\u001b[0m\u001b[1;33m\u001b[0m\u001b[0m\n",
      "\u001b[1;32m~\\AppData\\Local\\Packages\\PythonSoftwareFoundation.Python.3.7_qbz5n2kfra8p0\\LocalCache\\local-packages\\Python37\\site-packages\\pandas\\core\\arrays\\datetimes.py\u001b[0m in \u001b[0;36mobjects_to_datetime64ns\u001b[1;34m(data, dayfirst, yearfirst, utc, errors, require_iso8601, allow_object, allow_mixed)\u001b[0m\n\u001b[0;32m   2185\u001b[0m             \u001b[0myearfirst\u001b[0m\u001b[1;33m=\u001b[0m\u001b[0myearfirst\u001b[0m\u001b[1;33m,\u001b[0m\u001b[1;33m\u001b[0m\u001b[1;33m\u001b[0m\u001b[0m\n\u001b[0;32m   2186\u001b[0m             \u001b[0mrequire_iso8601\u001b[0m\u001b[1;33m=\u001b[0m\u001b[0mrequire_iso8601\u001b[0m\u001b[1;33m,\u001b[0m\u001b[1;33m\u001b[0m\u001b[1;33m\u001b[0m\u001b[0m\n\u001b[1;32m-> 2187\u001b[1;33m             \u001b[0mallow_mixed\u001b[0m\u001b[1;33m=\u001b[0m\u001b[0mallow_mixed\u001b[0m\u001b[1;33m,\u001b[0m\u001b[1;33m\u001b[0m\u001b[1;33m\u001b[0m\u001b[0m\n\u001b[0m\u001b[0;32m   2188\u001b[0m         )\n\u001b[0;32m   2189\u001b[0m         \u001b[0mresult\u001b[0m \u001b[1;33m=\u001b[0m \u001b[0mresult\u001b[0m\u001b[1;33m.\u001b[0m\u001b[0mreshape\u001b[0m\u001b[1;33m(\u001b[0m\u001b[0mdata\u001b[0m\u001b[1;33m.\u001b[0m\u001b[0mshape\u001b[0m\u001b[1;33m,\u001b[0m \u001b[0morder\u001b[0m\u001b[1;33m=\u001b[0m\u001b[0morder\u001b[0m\u001b[1;33m)\u001b[0m\u001b[1;33m\u001b[0m\u001b[1;33m\u001b[0m\u001b[0m\n",
      "\u001b[1;32m~\\AppData\\Local\\Packages\\PythonSoftwareFoundation.Python.3.7_qbz5n2kfra8p0\\LocalCache\\local-packages\\Python37\\site-packages\\pandas\\_libs\\tslib.pyx\u001b[0m in \u001b[0;36mpandas._libs.tslib.array_to_datetime\u001b[1;34m()\u001b[0m\n",
      "\u001b[1;32m~\\AppData\\Local\\Packages\\PythonSoftwareFoundation.Python.3.7_qbz5n2kfra8p0\\LocalCache\\local-packages\\Python37\\site-packages\\pandas\\_libs\\tslib.pyx\u001b[0m in \u001b[0;36mpandas._libs.tslib.array_to_datetime\u001b[1;34m()\u001b[0m\n",
      "\u001b[1;31mValueError\u001b[0m: Tz-aware datetime.datetime cannot be converted to datetime64 unless utc=True"
     ]
    }
   ],
   "source": [
    "pd.to_datetime(izvestia_frame['datetime'], errors='coerce', utc=False).astype('datetime64')"
   ]
  },
  {
   "cell_type": "code",
   "execution_count": 22,
   "id": "b4125b36",
   "metadata": {},
   "outputs": [
    {
     "ename": "ValueError",
     "evalue": "time data '' does not match format '%Y-%m-%dT%H:%M:%S+03:00' (match)",
     "output_type": "error",
     "traceback": [
      "\u001b[1;31m---------------------------------------------------------------------------\u001b[0m",
      "\u001b[1;31mTypeError\u001b[0m                                 Traceback (most recent call last)",
      "\u001b[1;32m~\\AppData\\Local\\Packages\\PythonSoftwareFoundation.Python.3.7_qbz5n2kfra8p0\\LocalCache\\local-packages\\Python37\\site-packages\\pandas\\core\\tools\\datetimes.py\u001b[0m in \u001b[0;36m_to_datetime_with_format\u001b[1;34m(arg, orig_arg, name, tz, fmt, exact, errors, infer_datetime_format)\u001b[0m\n\u001b[0;32m    508\u001b[0m         \u001b[1;32mtry\u001b[0m\u001b[1;33m:\u001b[0m\u001b[1;33m\u001b[0m\u001b[1;33m\u001b[0m\u001b[0m\n\u001b[1;32m--> 509\u001b[1;33m             \u001b[0mvalues\u001b[0m\u001b[1;33m,\u001b[0m \u001b[0mtz\u001b[0m \u001b[1;33m=\u001b[0m \u001b[0mconversion\u001b[0m\u001b[1;33m.\u001b[0m\u001b[0mdatetime_to_datetime64\u001b[0m\u001b[1;33m(\u001b[0m\u001b[0marg\u001b[0m\u001b[1;33m)\u001b[0m\u001b[1;33m\u001b[0m\u001b[1;33m\u001b[0m\u001b[0m\n\u001b[0m\u001b[0;32m    510\u001b[0m             \u001b[0mdta\u001b[0m \u001b[1;33m=\u001b[0m \u001b[0mDatetimeArray\u001b[0m\u001b[1;33m(\u001b[0m\u001b[0mvalues\u001b[0m\u001b[1;33m,\u001b[0m \u001b[0mdtype\u001b[0m\u001b[1;33m=\u001b[0m\u001b[0mtz_to_dtype\u001b[0m\u001b[1;33m(\u001b[0m\u001b[0mtz\u001b[0m\u001b[1;33m)\u001b[0m\u001b[1;33m)\u001b[0m\u001b[1;33m\u001b[0m\u001b[1;33m\u001b[0m\u001b[0m\n",
      "\u001b[1;32m~\\AppData\\Local\\Packages\\PythonSoftwareFoundation.Python.3.7_qbz5n2kfra8p0\\LocalCache\\local-packages\\Python37\\site-packages\\pandas\\_libs\\tslibs\\conversion.pyx\u001b[0m in \u001b[0;36mpandas._libs.tslibs.conversion.datetime_to_datetime64\u001b[1;34m()\u001b[0m\n",
      "\u001b[1;31mTypeError\u001b[0m: Unrecognized value type: <class 'str'>",
      "\nDuring handling of the above exception, another exception occurred:\n",
      "\u001b[1;31mValueError\u001b[0m                                Traceback (most recent call last)",
      "\u001b[1;32m~\\AppData\\Local\\Temp\\ipykernel_16164\\4101469495.py\u001b[0m in \u001b[0;36m<module>\u001b[1;34m\u001b[0m\n\u001b[1;32m----> 1\u001b[1;33m \u001b[0mpd\u001b[0m\u001b[1;33m.\u001b[0m\u001b[0mto_datetime\u001b[0m\u001b[1;33m(\u001b[0m\u001b[0mizvestia_frame\u001b[0m\u001b[1;33m[\u001b[0m\u001b[1;34m'datetime'\u001b[0m\u001b[1;33m]\u001b[0m\u001b[1;33m,\u001b[0m \u001b[0mformat\u001b[0m\u001b[1;33m=\u001b[0m\u001b[1;34m'%Y-%m-%dT%H:%M:%S+03:00'\u001b[0m\u001b[1;33m)\u001b[0m\u001b[1;33m.\u001b[0m\u001b[0mdt\u001b[0m\u001b[1;33m\u001b[0m\u001b[1;33m\u001b[0m\u001b[0m\n\u001b[0m",
      "\u001b[1;32m~\\AppData\\Local\\Packages\\PythonSoftwareFoundation.Python.3.7_qbz5n2kfra8p0\\LocalCache\\local-packages\\Python37\\site-packages\\pandas\\core\\tools\\datetimes.py\u001b[0m in \u001b[0;36mto_datetime\u001b[1;34m(arg, errors, dayfirst, yearfirst, utc, format, exact, unit, infer_datetime_format, origin, cache)\u001b[0m\n\u001b[0;32m    885\u001b[0m             \u001b[0mresult\u001b[0m \u001b[1;33m=\u001b[0m \u001b[0marg\u001b[0m\u001b[1;33m.\u001b[0m\u001b[0mmap\u001b[0m\u001b[1;33m(\u001b[0m\u001b[0mcache_array\u001b[0m\u001b[1;33m)\u001b[0m\u001b[1;33m\u001b[0m\u001b[1;33m\u001b[0m\u001b[0m\n\u001b[0;32m    886\u001b[0m         \u001b[1;32melse\u001b[0m\u001b[1;33m:\u001b[0m\u001b[1;33m\u001b[0m\u001b[1;33m\u001b[0m\u001b[0m\n\u001b[1;32m--> 887\u001b[1;33m             \u001b[0mvalues\u001b[0m \u001b[1;33m=\u001b[0m \u001b[0mconvert_listlike\u001b[0m\u001b[1;33m(\u001b[0m\u001b[0marg\u001b[0m\u001b[1;33m.\u001b[0m\u001b[0m_values\u001b[0m\u001b[1;33m,\u001b[0m \u001b[0mformat\u001b[0m\u001b[1;33m)\u001b[0m\u001b[1;33m\u001b[0m\u001b[1;33m\u001b[0m\u001b[0m\n\u001b[0m\u001b[0;32m    888\u001b[0m             \u001b[0mresult\u001b[0m \u001b[1;33m=\u001b[0m \u001b[0marg\u001b[0m\u001b[1;33m.\u001b[0m\u001b[0m_constructor\u001b[0m\u001b[1;33m(\u001b[0m\u001b[0mvalues\u001b[0m\u001b[1;33m,\u001b[0m \u001b[0mindex\u001b[0m\u001b[1;33m=\u001b[0m\u001b[0marg\u001b[0m\u001b[1;33m.\u001b[0m\u001b[0mindex\u001b[0m\u001b[1;33m,\u001b[0m \u001b[0mname\u001b[0m\u001b[1;33m=\u001b[0m\u001b[0marg\u001b[0m\u001b[1;33m.\u001b[0m\u001b[0mname\u001b[0m\u001b[1;33m)\u001b[0m\u001b[1;33m\u001b[0m\u001b[1;33m\u001b[0m\u001b[0m\n\u001b[0;32m    889\u001b[0m     \u001b[1;32melif\u001b[0m \u001b[0misinstance\u001b[0m\u001b[1;33m(\u001b[0m\u001b[0marg\u001b[0m\u001b[1;33m,\u001b[0m \u001b[1;33m(\u001b[0m\u001b[0mABCDataFrame\u001b[0m\u001b[1;33m,\u001b[0m \u001b[0mabc\u001b[0m\u001b[1;33m.\u001b[0m\u001b[0mMutableMapping\u001b[0m\u001b[1;33m)\u001b[0m\u001b[1;33m)\u001b[0m\u001b[1;33m:\u001b[0m\u001b[1;33m\u001b[0m\u001b[1;33m\u001b[0m\u001b[0m\n",
      "\u001b[1;32m~\\AppData\\Local\\Packages\\PythonSoftwareFoundation.Python.3.7_qbz5n2kfra8p0\\LocalCache\\local-packages\\Python37\\site-packages\\pandas\\core\\tools\\datetimes.py\u001b[0m in \u001b[0;36m_convert_listlike_datetimes\u001b[1;34m(arg, format, name, tz, unit, errors, infer_datetime_format, dayfirst, yearfirst, exact)\u001b[0m\n\u001b[0;32m    392\u001b[0m     \u001b[1;32mif\u001b[0m \u001b[0mformat\u001b[0m \u001b[1;32mis\u001b[0m \u001b[1;32mnot\u001b[0m \u001b[1;32mNone\u001b[0m\u001b[1;33m:\u001b[0m\u001b[1;33m\u001b[0m\u001b[1;33m\u001b[0m\u001b[0m\n\u001b[0;32m    393\u001b[0m         res = _to_datetime_with_format(\n\u001b[1;32m--> 394\u001b[1;33m             \u001b[0marg\u001b[0m\u001b[1;33m,\u001b[0m \u001b[0morig_arg\u001b[0m\u001b[1;33m,\u001b[0m \u001b[0mname\u001b[0m\u001b[1;33m,\u001b[0m \u001b[0mtz\u001b[0m\u001b[1;33m,\u001b[0m \u001b[0mformat\u001b[0m\u001b[1;33m,\u001b[0m \u001b[0mexact\u001b[0m\u001b[1;33m,\u001b[0m \u001b[0merrors\u001b[0m\u001b[1;33m,\u001b[0m \u001b[0minfer_datetime_format\u001b[0m\u001b[1;33m\u001b[0m\u001b[1;33m\u001b[0m\u001b[0m\n\u001b[0m\u001b[0;32m    395\u001b[0m         )\n\u001b[0;32m    396\u001b[0m         \u001b[1;32mif\u001b[0m \u001b[0mres\u001b[0m \u001b[1;32mis\u001b[0m \u001b[1;32mnot\u001b[0m \u001b[1;32mNone\u001b[0m\u001b[1;33m:\u001b[0m\u001b[1;33m\u001b[0m\u001b[1;33m\u001b[0m\u001b[0m\n",
      "\u001b[1;32m~\\AppData\\Local\\Packages\\PythonSoftwareFoundation.Python.3.7_qbz5n2kfra8p0\\LocalCache\\local-packages\\Python37\\site-packages\\pandas\\core\\tools\\datetimes.py\u001b[0m in \u001b[0;36m_to_datetime_with_format\u001b[1;34m(arg, orig_arg, name, tz, fmt, exact, errors, infer_datetime_format)\u001b[0m\n\u001b[0;32m    511\u001b[0m             \u001b[1;32mreturn\u001b[0m \u001b[0mDatetimeIndex\u001b[0m\u001b[1;33m.\u001b[0m\u001b[0m_simple_new\u001b[0m\u001b[1;33m(\u001b[0m\u001b[0mdta\u001b[0m\u001b[1;33m,\u001b[0m \u001b[0mname\u001b[0m\u001b[1;33m=\u001b[0m\u001b[0mname\u001b[0m\u001b[1;33m)\u001b[0m\u001b[1;33m\u001b[0m\u001b[1;33m\u001b[0m\u001b[0m\n\u001b[0;32m    512\u001b[0m         \u001b[1;32mexcept\u001b[0m \u001b[1;33m(\u001b[0m\u001b[0mValueError\u001b[0m\u001b[1;33m,\u001b[0m \u001b[0mTypeError\u001b[0m\u001b[1;33m)\u001b[0m\u001b[1;33m:\u001b[0m\u001b[1;33m\u001b[0m\u001b[1;33m\u001b[0m\u001b[0m\n\u001b[1;32m--> 513\u001b[1;33m             \u001b[1;32mraise\u001b[0m \u001b[0merr\u001b[0m\u001b[1;33m\u001b[0m\u001b[1;33m\u001b[0m\u001b[0m\n\u001b[0m\u001b[0;32m    514\u001b[0m \u001b[1;33m\u001b[0m\u001b[0m\n\u001b[0;32m    515\u001b[0m \u001b[1;33m\u001b[0m\u001b[0m\n",
      "\u001b[1;32m~\\AppData\\Local\\Packages\\PythonSoftwareFoundation.Python.3.7_qbz5n2kfra8p0\\LocalCache\\local-packages\\Python37\\site-packages\\pandas\\core\\tools\\datetimes.py\u001b[0m in \u001b[0;36m_to_datetime_with_format\u001b[1;34m(arg, orig_arg, name, tz, fmt, exact, errors, infer_datetime_format)\u001b[0m\n\u001b[0;32m    499\u001b[0m         \u001b[1;31m# fallback\u001b[0m\u001b[1;33m\u001b[0m\u001b[1;33m\u001b[0m\u001b[1;33m\u001b[0m\u001b[0m\n\u001b[0;32m    500\u001b[0m         res = _array_strptime_with_fallback(\n\u001b[1;32m--> 501\u001b[1;33m             \u001b[0marg\u001b[0m\u001b[1;33m,\u001b[0m \u001b[0mname\u001b[0m\u001b[1;33m,\u001b[0m \u001b[0mtz\u001b[0m\u001b[1;33m,\u001b[0m \u001b[0mfmt\u001b[0m\u001b[1;33m,\u001b[0m \u001b[0mexact\u001b[0m\u001b[1;33m,\u001b[0m \u001b[0merrors\u001b[0m\u001b[1;33m,\u001b[0m \u001b[0minfer_datetime_format\u001b[0m\u001b[1;33m\u001b[0m\u001b[1;33m\u001b[0m\u001b[0m\n\u001b[0m\u001b[0;32m    502\u001b[0m         )\n\u001b[0;32m    503\u001b[0m         \u001b[1;32mreturn\u001b[0m \u001b[0mres\u001b[0m\u001b[1;33m\u001b[0m\u001b[1;33m\u001b[0m\u001b[0m\n",
      "\u001b[1;32m~\\AppData\\Local\\Packages\\PythonSoftwareFoundation.Python.3.7_qbz5n2kfra8p0\\LocalCache\\local-packages\\Python37\\site-packages\\pandas\\core\\tools\\datetimes.py\u001b[0m in \u001b[0;36m_array_strptime_with_fallback\u001b[1;34m(arg, name, tz, fmt, exact, errors, infer_datetime_format)\u001b[0m\n\u001b[0;32m    434\u001b[0m \u001b[1;33m\u001b[0m\u001b[0m\n\u001b[0;32m    435\u001b[0m     \u001b[1;32mtry\u001b[0m\u001b[1;33m:\u001b[0m\u001b[1;33m\u001b[0m\u001b[1;33m\u001b[0m\u001b[0m\n\u001b[1;32m--> 436\u001b[1;33m         \u001b[0mresult\u001b[0m\u001b[1;33m,\u001b[0m \u001b[0mtimezones\u001b[0m \u001b[1;33m=\u001b[0m \u001b[0marray_strptime\u001b[0m\u001b[1;33m(\u001b[0m\u001b[0marg\u001b[0m\u001b[1;33m,\u001b[0m \u001b[0mfmt\u001b[0m\u001b[1;33m,\u001b[0m \u001b[0mexact\u001b[0m\u001b[1;33m=\u001b[0m\u001b[0mexact\u001b[0m\u001b[1;33m,\u001b[0m \u001b[0merrors\u001b[0m\u001b[1;33m=\u001b[0m\u001b[0merrors\u001b[0m\u001b[1;33m)\u001b[0m\u001b[1;33m\u001b[0m\u001b[1;33m\u001b[0m\u001b[0m\n\u001b[0m\u001b[0;32m    437\u001b[0m         \u001b[1;32mif\u001b[0m \u001b[1;34m\"%Z\"\u001b[0m \u001b[1;32min\u001b[0m \u001b[0mfmt\u001b[0m \u001b[1;32mor\u001b[0m \u001b[1;34m\"%z\"\u001b[0m \u001b[1;32min\u001b[0m \u001b[0mfmt\u001b[0m\u001b[1;33m:\u001b[0m\u001b[1;33m\u001b[0m\u001b[1;33m\u001b[0m\u001b[0m\n\u001b[0;32m    438\u001b[0m             \u001b[1;32mreturn\u001b[0m \u001b[0m_return_parsed_timezone_results\u001b[0m\u001b[1;33m(\u001b[0m\u001b[0mresult\u001b[0m\u001b[1;33m,\u001b[0m \u001b[0mtimezones\u001b[0m\u001b[1;33m,\u001b[0m \u001b[0mtz\u001b[0m\u001b[1;33m,\u001b[0m \u001b[0mname\u001b[0m\u001b[1;33m)\u001b[0m\u001b[1;33m\u001b[0m\u001b[1;33m\u001b[0m\u001b[0m\n",
      "\u001b[1;32m~\\AppData\\Local\\Packages\\PythonSoftwareFoundation.Python.3.7_qbz5n2kfra8p0\\LocalCache\\local-packages\\Python37\\site-packages\\pandas\\_libs\\tslibs\\strptime.pyx\u001b[0m in \u001b[0;36mpandas._libs.tslibs.strptime.array_strptime\u001b[1;34m()\u001b[0m\n",
      "\u001b[1;31mValueError\u001b[0m: time data '' does not match format '%Y-%m-%dT%H:%M:%S+03:00' (match)"
     ]
    }
   ],
   "source": [
    "pd.to_datetime(izvestia_frame['datetime'], format='%Y-%m-%dT%H:%M:%S+03:00').dt"
   ]
  },
  {
   "cell_type": "code",
   "execution_count": 18,
   "id": "af87dce9",
   "metadata": {},
   "outputs": [
    {
     "ename": "AttributeError",
     "evalue": "Can only use .dt accessor with datetimelike values",
     "output_type": "error",
     "traceback": [
      "\u001b[1;31m---------------------------------------------------------------------------\u001b[0m",
      "\u001b[1;31mAttributeError\u001b[0m                            Traceback (most recent call last)",
      "\u001b[1;32m~\\AppData\\Local\\Temp\\ipykernel_16164\\216557280.py\u001b[0m in \u001b[0;36m<module>\u001b[1;34m\u001b[0m\n\u001b[1;32m----> 1\u001b[1;33m \u001b[0mizvestia_frame\u001b[0m\u001b[1;33m[\u001b[0m\u001b[1;34m'date'\u001b[0m\u001b[1;33m]\u001b[0m \u001b[1;33m=\u001b[0m \u001b[0mpd\u001b[0m\u001b[1;33m.\u001b[0m\u001b[0mto_datetime\u001b[0m\u001b[1;33m(\u001b[0m\u001b[0mizvestia_frame\u001b[0m\u001b[1;33m[\u001b[0m\u001b[1;34m'datetime'\u001b[0m\u001b[1;33m]\u001b[0m\u001b[1;33m)\u001b[0m\u001b[1;33m.\u001b[0m\u001b[0mdt\u001b[0m\u001b[1;33m.\u001b[0m\u001b[0mdate\u001b[0m\u001b[1;33m\u001b[0m\u001b[1;33m\u001b[0m\u001b[0m\n\u001b[0m",
      "\u001b[1;32m~\\AppData\\Local\\Packages\\PythonSoftwareFoundation.Python.3.7_qbz5n2kfra8p0\\LocalCache\\local-packages\\Python37\\site-packages\\pandas\\core\\generic.py\u001b[0m in \u001b[0;36m__getattr__\u001b[1;34m(self, name)\u001b[0m\n\u001b[0;32m   5485\u001b[0m         ):\n\u001b[0;32m   5486\u001b[0m             \u001b[1;32mreturn\u001b[0m \u001b[0mself\u001b[0m\u001b[1;33m[\u001b[0m\u001b[0mname\u001b[0m\u001b[1;33m]\u001b[0m\u001b[1;33m\u001b[0m\u001b[1;33m\u001b[0m\u001b[0m\n\u001b[1;32m-> 5487\u001b[1;33m         \u001b[1;32mreturn\u001b[0m \u001b[0mobject\u001b[0m\u001b[1;33m.\u001b[0m\u001b[0m__getattribute__\u001b[0m\u001b[1;33m(\u001b[0m\u001b[0mself\u001b[0m\u001b[1;33m,\u001b[0m \u001b[0mname\u001b[0m\u001b[1;33m)\u001b[0m\u001b[1;33m\u001b[0m\u001b[1;33m\u001b[0m\u001b[0m\n\u001b[0m\u001b[0;32m   5488\u001b[0m \u001b[1;33m\u001b[0m\u001b[0m\n\u001b[0;32m   5489\u001b[0m     \u001b[1;32mdef\u001b[0m \u001b[0m__setattr__\u001b[0m\u001b[1;33m(\u001b[0m\u001b[0mself\u001b[0m\u001b[1;33m,\u001b[0m \u001b[0mname\u001b[0m\u001b[1;33m:\u001b[0m \u001b[0mstr\u001b[0m\u001b[1;33m,\u001b[0m \u001b[0mvalue\u001b[0m\u001b[1;33m)\u001b[0m \u001b[1;33m->\u001b[0m \u001b[1;32mNone\u001b[0m\u001b[1;33m:\u001b[0m\u001b[1;33m\u001b[0m\u001b[1;33m\u001b[0m\u001b[0m\n",
      "\u001b[1;32m~\\AppData\\Local\\Packages\\PythonSoftwareFoundation.Python.3.7_qbz5n2kfra8p0\\LocalCache\\local-packages\\Python37\\site-packages\\pandas\\core\\accessor.py\u001b[0m in \u001b[0;36m__get__\u001b[1;34m(self, obj, cls)\u001b[0m\n\u001b[0;32m    179\u001b[0m             \u001b[1;31m# we're accessing the attribute of the class, i.e., Dataset.geo\u001b[0m\u001b[1;33m\u001b[0m\u001b[1;33m\u001b[0m\u001b[1;33m\u001b[0m\u001b[0m\n\u001b[0;32m    180\u001b[0m             \u001b[1;32mreturn\u001b[0m \u001b[0mself\u001b[0m\u001b[1;33m.\u001b[0m\u001b[0m_accessor\u001b[0m\u001b[1;33m\u001b[0m\u001b[1;33m\u001b[0m\u001b[0m\n\u001b[1;32m--> 181\u001b[1;33m         \u001b[0maccessor_obj\u001b[0m \u001b[1;33m=\u001b[0m \u001b[0mself\u001b[0m\u001b[1;33m.\u001b[0m\u001b[0m_accessor\u001b[0m\u001b[1;33m(\u001b[0m\u001b[0mobj\u001b[0m\u001b[1;33m)\u001b[0m\u001b[1;33m\u001b[0m\u001b[1;33m\u001b[0m\u001b[0m\n\u001b[0m\u001b[0;32m    182\u001b[0m         \u001b[1;31m# Replace the property with the accessor object. Inspired by:\u001b[0m\u001b[1;33m\u001b[0m\u001b[1;33m\u001b[0m\u001b[1;33m\u001b[0m\u001b[0m\n\u001b[0;32m    183\u001b[0m         \u001b[1;31m# https://www.pydanny.com/cached-property.html\u001b[0m\u001b[1;33m\u001b[0m\u001b[1;33m\u001b[0m\u001b[1;33m\u001b[0m\u001b[0m\n",
      "\u001b[1;32m~\\AppData\\Local\\Packages\\PythonSoftwareFoundation.Python.3.7_qbz5n2kfra8p0\\LocalCache\\local-packages\\Python37\\site-packages\\pandas\\core\\indexes\\accessors.py\u001b[0m in \u001b[0;36m__new__\u001b[1;34m(cls, data)\u001b[0m\n\u001b[0;32m    504\u001b[0m             \u001b[1;32mreturn\u001b[0m \u001b[0mPeriodProperties\u001b[0m\u001b[1;33m(\u001b[0m\u001b[0mdata\u001b[0m\u001b[1;33m,\u001b[0m \u001b[0morig\u001b[0m\u001b[1;33m)\u001b[0m\u001b[1;33m\u001b[0m\u001b[1;33m\u001b[0m\u001b[0m\n\u001b[0;32m    505\u001b[0m \u001b[1;33m\u001b[0m\u001b[0m\n\u001b[1;32m--> 506\u001b[1;33m         \u001b[1;32mraise\u001b[0m \u001b[0mAttributeError\u001b[0m\u001b[1;33m(\u001b[0m\u001b[1;34m\"Can only use .dt accessor with datetimelike values\"\u001b[0m\u001b[1;33m)\u001b[0m\u001b[1;33m\u001b[0m\u001b[1;33m\u001b[0m\u001b[0m\n\u001b[0m",
      "\u001b[1;31mAttributeError\u001b[0m: Can only use .dt accessor with datetimelike values"
     ]
    }
   ],
   "source": [
    "izvestia_frame['date'] = pd.to_datetime(izvestia_frame['datetime']).dt.date"
   ]
  },
  {
   "cell_type": "code",
   "execution_count": 40,
   "id": "74d686de",
   "metadata": {},
   "outputs": [],
   "source": [
    "from gensim.models.phrases import Phrases"
   ]
  },
  {
   "cell_type": "code",
   "execution_count": 1,
   "id": "d809a433",
   "metadata": {},
   "outputs": [],
   "source": [
    "from bs4 import BeautifulSoup\n",
    "import json\n",
    "import os\n",
    "import sqlite3\n",
    "import nltk\n",
    "import spacy\n",
    "import pandas as pd\n",
    "import numpy as np\n",
    "import matplotlib.pyplot as plt\n",
    "import datetime\n",
    "from pymystem3 import Mystem\n",
    "import pickle\n",
    "import re"
   ]
  },
  {
   "cell_type": "code",
   "execution_count": 2,
   "id": "fa46b2b9-f9ea-433e-b714-8895208dc221",
   "metadata": {},
   "outputs": [],
   "source": [
    "conn = sqlite3.connect('D:\\diplom main\\diplom.db')\n",
    "cur = conn.cursor()\n",
    "df = pd.read_sql(\"\"\"SELECT * FROM IZVESTIA_TEXTS0021\"\"\", conn)\n",
    "conn.close()\n",
    "pattern = re.compile('[^a-zA-Z0-9а-яА-ЯёЁ\\s]+')\n",
    "stopwords_rus = nltk.corpus.stopwords.words('russian')\n",
    "\n",
    "def text_cleaner(text):\n",
    "    clean_text = ' '.join(list(filter(None, [i.strip() for i in re.sub(pattern, ' ', text).lower().split(' ') if i not in stopwords_rus])))\n",
    "    out = ' '.join([i for i in Mystem().lemmatize(clean_text) if i not in (' ', '\\n')])\n",
    "    return out\n",
    "def count_democracy(text):\n",
    "    return text.count('демократия')"
   ]
  },
  {
   "cell_type": "code",
   "execution_count": 3,
   "id": "68a104b7-6684-43c3-ae69-a45b841a8ada",
   "metadata": {},
   "outputs": [
    {
     "data": {
      "text/plain": [
       "(155560, 9)"
      ]
     },
     "execution_count": 3,
     "metadata": {},
     "output_type": "execute_result"
    }
   ],
   "source": [
    "df.shape"
   ]
  },
  {
   "cell_type": "code",
   "execution_count": 4,
   "id": "1d94ad47-68fb-4dbe-9d09-4971b4c52fa8",
   "metadata": {},
   "outputs": [
    {
     "data": {
      "text/html": [
       "<div>\n",
       "<style scoped>\n",
       "    .dataframe tbody tr th:only-of-type {\n",
       "        vertical-align: middle;\n",
       "    }\n",
       "\n",
       "    .dataframe tbody tr th {\n",
       "        vertical-align: top;\n",
       "    }\n",
       "\n",
       "    .dataframe thead th {\n",
       "        text-align: right;\n",
       "    }\n",
       "</style>\n",
       "<table border=\"1\" class=\"dataframe\">\n",
       "  <thead>\n",
       "    <tr style=\"text-align: right;\">\n",
       "      <th></th>\n",
       "      <th>index</th>\n",
       "      <th>ID</th>\n",
       "      <th>AUTHOR</th>\n",
       "      <th>DDATE</th>\n",
       "      <th>URL</th>\n",
       "      <th>HEADER</th>\n",
       "      <th>SECTION</th>\n",
       "      <th>FILENAME</th>\n",
       "      <th>TRANSCRIPT</th>\n",
       "    </tr>\n",
       "  </thead>\n",
       "  <tbody>\n",
       "    <tr>\n",
       "      <th>0</th>\n",
       "      <td>0</td>\n",
       "      <td>3</td>\n",
       "      <td></td>\n",
       "      <td>2018-07-02</td>\n",
       "      <td>https://iz.ru/762225/photo/gudrun5</td>\n",
       "      <td>gudrun5</td>\n",
       "      <td>Мир, Фото</td>\n",
       "      <td>10000.html</td>\n",
       "      <td>Поделиться:\\n</td>\n",
       "    </tr>\n",
       "    <tr>\n",
       "      <th>1</th>\n",
       "      <td>1</td>\n",
       "      <td>4</td>\n",
       "      <td>Алексей Забродин</td>\n",
       "      <td>2018-02-21</td>\n",
       "      <td>https://iz.ru/711745/aleksei-zabrodin/alpiiska...</td>\n",
       "      <td>Альпийская разновекторность</td>\n",
       "      <td>Мир, Статья</td>\n",
       "      <td>100000.html</td>\n",
       "      <td>Министр иностранных дел России Сергей Лавров п...</td>\n",
       "    </tr>\n",
       "    <tr>\n",
       "      <th>2</th>\n",
       "      <td>2</td>\n",
       "      <td>6</td>\n",
       "      <td>Ирина Рудевич, Алексей Рудевич</td>\n",
       "      <td>2018-10-29</td>\n",
       "      <td>https://iz.ru/805131/irina-rudevich-aleksei-ru...</td>\n",
       "      <td>Персональные данные. Валюта XXI века</td>\n",
       "      <td>Финансы, Статья</td>\n",
       "      <td>100003.html</td>\n",
       "      <td>Персональные данные человека — это ценность. С...</td>\n",
       "    </tr>\n",
       "    <tr>\n",
       "      <th>3</th>\n",
       "      <td>3</td>\n",
       "      <td>7</td>\n",
       "      <td></td>\n",
       "      <td>2020-04-01</td>\n",
       "      <td>https://iz.ru/994423/video/situatciia-s-appara...</td>\n",
       "      <td>Ситуация с аппаратами ИВЛ в стране стабильна</td>\n",
       "      <td>Общество, Видео</td>\n",
       "      <td>100004.html</td>\n",
       "      <td>Выделить главное\\n\\n\\n\\t\\t\\tвкл\\n\\t\\t\\n\\n\\n\\t\\...</td>\n",
       "    </tr>\n",
       "    <tr>\n",
       "      <th>4</th>\n",
       "      <td>4</td>\n",
       "      <td>8</td>\n",
       "      <td>Евгений Девятьяров</td>\n",
       "      <td>2017-08-10</td>\n",
       "      <td>https://iz.ru/630974/evgenii-deviatiarov/polet...</td>\n",
       "      <td>Над Крымским мостом запретили летать ниже кило...</td>\n",
       "      <td>Общество, Статья</td>\n",
       "      <td>100005.html</td>\n",
       "      <td>Министерство транспорта России официально подт...</td>\n",
       "    </tr>\n",
       "  </tbody>\n",
       "</table>\n",
       "</div>"
      ],
      "text/plain": [
       "   index  ID                          AUTHOR       DDATE  \\\n",
       "0      0   3                                  2018-07-02   \n",
       "1      1   4                Алексей Забродин  2018-02-21   \n",
       "2      2   6  Ирина Рудевич, Алексей Рудевич  2018-10-29   \n",
       "3      3   7                                  2020-04-01   \n",
       "4      4   8              Евгений Девятьяров  2017-08-10   \n",
       "\n",
       "                                                 URL  \\\n",
       "0                 https://iz.ru/762225/photo/gudrun5   \n",
       "1  https://iz.ru/711745/aleksei-zabrodin/alpiiska...   \n",
       "2  https://iz.ru/805131/irina-rudevich-aleksei-ru...   \n",
       "3  https://iz.ru/994423/video/situatciia-s-appara...   \n",
       "4  https://iz.ru/630974/evgenii-deviatiarov/polet...   \n",
       "\n",
       "                                              HEADER           SECTION  \\\n",
       "0                                            gudrun5         Мир, Фото   \n",
       "1                        Альпийская разновекторность       Мир, Статья   \n",
       "2               Персональные данные. Валюта XXI века   Финансы, Статья   \n",
       "3       Ситуация с аппаратами ИВЛ в стране стабильна   Общество, Видео   \n",
       "4  Над Крымским мостом запретили летать ниже кило...  Общество, Статья   \n",
       "\n",
       "      FILENAME                                         TRANSCRIPT  \n",
       "0   10000.html                                      Поделиться:\\n  \n",
       "1  100000.html  Министр иностранных дел России Сергей Лавров п...  \n",
       "2  100003.html  Персональные данные человека — это ценность. С...  \n",
       "3  100004.html  Выделить главное\\n\\n\\n\\t\\t\\tвкл\\n\\t\\t\\n\\n\\n\\t\\...  \n",
       "4  100005.html  Министерство транспорта России официально подт...  "
      ]
     },
     "execution_count": 4,
     "metadata": {},
     "output_type": "execute_result"
    }
   ],
   "source": [
    "df.head()"
   ]
  },
  {
   "cell_type": "code",
   "execution_count": 5,
   "id": "0ddc7f57-36d7-429d-9906-e81b8bd7ca4a",
   "metadata": {},
   "outputs": [],
   "source": [
    "dfArticles = df[df.SECTION.str.contains('Статья')]"
   ]
  },
  {
   "cell_type": "code",
   "execution_count": 6,
   "id": "5cfd972e-9698-4ea7-9d98-8e2fd3783ef0",
   "metadata": {},
   "outputs": [
    {
     "data": {
      "text/plain": [
       "(35551, 9)"
      ]
     },
     "execution_count": 6,
     "metadata": {},
     "output_type": "execute_result"
    }
   ],
   "source": [
    "dfArticles.shape"
   ]
  },
  {
   "cell_type": "code",
   "execution_count": null,
   "id": "a212b309-8b64-4596-83e3-bda4314ab923",
   "metadata": {},
   "outputs": [],
   "source": [
    "dfArticles['TOKENIZED_TRANSCRIPT'] = dfArticles['TRANSCRIPT'].apply(text_cleaner)"
   ]
  },
  {
   "cell_type": "code",
   "execution_count": null,
   "id": "bc3ed6f7-6455-4f8c-9825-9d459337d2fc",
   "metadata": {},
   "outputs": [],
   "source": [
    "dfArticles[\"COUNT_DEMOCRACY\"] = dfArticles['TOKENIZED_TRANSCRIPT'].apply(count_democracy)"
   ]
  },
  {
   "cell_type": "code",
   "execution_count": null,
   "id": "7af1220c-ba6d-4d45-8fbe-35e54537ee32",
   "metadata": {},
   "outputs": [],
   "source": [
    "dfArticles.to_csv(\"izvestia.csv\")"
   ]
  },
  {
   "cell_type": "code",
   "execution_count": null,
   "id": "ffff8d56-7141-437d-a3bf-f0beb15f5c72",
   "metadata": {},
   "outputs": [],
   "source": [
    "conn = sqlite3.connect('D:\\diplom main\\diplom.db')\n",
    "dfArticles.to_sql(\"IZVESTIA_TOKENIZED\", conn)\n",
    "conn.commit()"
   ]
  },
  {
   "cell_type": "code",
   "execution_count": null,
   "id": "6984c3f3",
   "metadata": {},
   "outputs": [],
   "source": [
    "1"
   ]
  }
 ],
 "metadata": {
  "kernelspec": {
   "display_name": "Python 3 (ipykernel)",
   "language": "python",
   "name": "python3"
  },
  "language_info": {
   "codemirror_mode": {
    "name": "ipython",
    "version": 3
   },
   "file_extension": ".py",
   "mimetype": "text/x-python",
   "name": "python",
   "nbconvert_exporter": "python",
   "pygments_lexer": "ipython3",
   "version": "3.12.2"
  }
 },
 "nbformat": 4,
 "nbformat_minor": 5
}
