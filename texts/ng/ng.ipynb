{
 "cells": [
  {
   "cell_type": "code",
   "execution_count": 2,
   "id": "081c85e4-1a7a-40af-96a1-cb65cb49c647",
   "metadata": {},
   "outputs": [
    {
     "name": "stdout",
     "output_type": "stream",
     "text": [
      "1699070 2017-11-28 00:14:00 33\n",
      "1681318 2000-08-17 00:00:00 29\n",
      "1697143 2009-02-10 00:00:00 29\n",
      "1678864 2018-08-01 23:51:00 19\n",
      "1707047 2018-08-01 23:51:00 19\n",
      "1711464 2010-11-09 00:00:00 17\n",
      "1679643 2006-08-31 00:00:00 15\n",
      "1682755 2000-03-08 00:00:00 13\n",
      "1703335 2004-05-24 00:00:00 13\n",
      "1679114 2013-04-18 00:01:00 12\n",
      "1685444 2010-11-16 00:00:00 12\n",
      "1693457 2009-04-13 00:00:00 12\n",
      "1697488 2009-09-15 00:00:00 12\n",
      "1708178 2012-11-13 00:00:00 12\n",
      "1711184 2008-03-06 00:00:00 12\n",
      "1711754 2012-04-24 00:00:00 12\n",
      "1688698 2002-02-18 00:00:00 11\n",
      "1694135 2014-10-13 21:25:00 11\n",
      "1691344 2012-03-13 00:00:00 10\n",
      "1695300 2005-02-25 00:00:00 10\n",
      "1700330 2000-01-28 00:00:00 10\n",
      "1701319 2007-06-14 00:00:00 10\n",
      "1701995 2005-05-08 00:00:00 10\n",
      "1705298 2009-09-30 00:00:00 10\n",
      "1686698 2003-08-12 00:00:00 9\n"
     ]
    }
   ],
   "source": [
    "import os\n",
    "import sqlite3\n",
    "import pandas as pd\n",
    "import numpy as np\n",
    "import datetime\n",
    "from pymystem3 import Mystem\n",
    "import re\n",
    "from nltk.corpus import stopwords\n",
    "\n",
    "conn = sqlite3.connect(r\"../../diplom.db\")\n",
    "cur = conn.cursor()\n",
    "\n",
    "res = cur.execute(\"\"\"SELECT ID, DDATE, TRANSCRIPT, DEMOCRACY_COUNT FROM NG ORDER BY DEMOCRACY_COUNT DESC LIMIT 25;\"\"\")\n",
    "for i, date, text, count in res:\n",
    "    print(i, date, count)\n",
    "    with open(f'{i}.txt', 'w', encoding='utf-8') as f:\n",
    "        f.write(text)"
   ]
  }
 ],
 "metadata": {
  "kernelspec": {
   "display_name": "Python 3 (ipykernel)",
   "language": "python",
   "name": "python3"
  },
  "language_info": {
   "codemirror_mode": {
    "name": "ipython",
    "version": 3
   },
   "file_extension": ".py",
   "mimetype": "text/x-python",
   "name": "python",
   "nbconvert_exporter": "python",
   "pygments_lexer": "ipython3",
   "version": "3.12.2"
  }
 },
 "nbformat": 4,
 "nbformat_minor": 5
}
