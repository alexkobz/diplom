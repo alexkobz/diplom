{
 "cells": [
  {
   "cell_type": "code",
   "execution_count": 1,
   "id": "843f85aa-ee84-4ce0-ab7a-e1491647898b",
   "metadata": {},
   "outputs": [],
   "source": [
    "import os\n",
    "import sqlite3\n",
    "import pandas as pd\n",
    "import numpy as np\n",
    "import datetime\n",
    "from pymystem3 import Mystem\n",
    "import re\n",
    "from nltk.corpus import stopwords"
   ]
  },
  {
   "cell_type": "code",
   "execution_count": 2,
   "id": "dd04b931-ee0c-46a0-a495-fa5cca96799f",
   "metadata": {},
   "outputs": [],
   "source": [
    "conn = sqlite3.connect(r\"../../diplom.db\")\n",
    "cur = conn.cursor()"
   ]
  },
  {
   "cell_type": "code",
   "execution_count": 4,
   "id": "aac232c1-b51e-4ea7-9961-7d6ef1fb744b",
   "metadata": {},
   "outputs": [
    {
     "name": "stdout",
     "output_type": "stream",
     "text": [
      "1786037 2012-07-25 00:00:00 56\n",
      "1826805 2019-09-30 00:00:00 43\n",
      "1826806 2019-09-30 00:00:00 43\n",
      "1815374 2007-05-22 00:00:00 40\n",
      "1846480 2012-09-18 00:00:00 35\n",
      "1840346 2020-12-04 00:00:00 31\n",
      "1811775 2004-12-08 00:00:00 28\n",
      "1826198 2013-11-14 00:00:00 27\n",
      "1848410 2013-11-14 00:00:00 27\n",
      "1819520 2010-09-29 00:00:00 25\n",
      "1826204 2019-02-17 00:00:00 23\n",
      "1848474 2019-02-17 00:00:00 23\n",
      "1845828 2020-11-27 00:00:00 22\n",
      "1789115 2014-07-20 00:00:00 21\n",
      "1817978 2009-06-03 00:00:00 21\n",
      "1851037 2019-12-11 00:00:00 21\n",
      "1848840 2020-12-17 00:00:00 20\n",
      "1839529 2014-08-09 00:00:00 19\n",
      "1808395 2002-11-11 00:00:00 18\n",
      "1812626 2005-07-19 00:00:00 18\n",
      "1826209 2019-04-23 00:00:00 18\n",
      "1830865 2017-05-26 00:00:00 18\n",
      "1848527 2019-04-23 00:00:00 18\n",
      "1799248 2014-01-29 00:00:00 17\n",
      "1799560 2020-11-19 00:00:00 17\n"
     ]
    }
   ],
   "source": [
    "res = cur.execute(\"\"\"SELECT ID, DDATE, TRANSCRIPT, DEMOCRACY_COUNT FROM ZAVTRA ORDER BY DEMOCRACY_COUNT DESC LIMIT 25;\"\"\")\n",
    "for i, date, text, count in res:\n",
    "    print(i, date, count)\n",
    "    with open(f'{i}.txt', 'w', encoding='utf-8') as f:\n",
    "        f.write(text)"
   ]
  },
  {
   "cell_type": "code",
   "execution_count": null,
   "id": "def1dee7-428e-4110-bc31-ab68aa395184",
   "metadata": {},
   "outputs": [],
   "source": []
  },
  {
   "cell_type": "code",
   "execution_count": null,
   "id": "369c419e-d831-42a2-9c01-8c795dae209c",
   "metadata": {},
   "outputs": [],
   "source": []
  }
 ],
 "metadata": {
  "kernelspec": {
   "display_name": "Python 3 (ipykernel)",
   "language": "python",
   "name": "python3"
  },
  "language_info": {
   "codemirror_mode": {
    "name": "ipython",
    "version": 3
   },
   "file_extension": ".py",
   "mimetype": "text/x-python",
   "name": "python",
   "nbconvert_exporter": "python",
   "pygments_lexer": "ipython3",
   "version": "3.12.2"
  }
 },
 "nbformat": 4,
 "nbformat_minor": 5
}
